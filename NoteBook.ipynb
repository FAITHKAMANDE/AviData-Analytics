{
 "cells": [
  {
   "cell_type": "markdown",
   "id": "e9c86bed-41a8-47e5-a455-024886a58c71",
   "metadata": {
    "scrolled": true
   },
   "source": [
    "## Business Problem:\n",
    "\n",
    "The company  is expanding in to new industries to diversify its portfolio. Specifically, they are interested in purchasing and operating airplanes for commercial and private enterprises, but do not know anything about the potential risks of aircraft. You are charged with determining which aircraft are the lowest risk for the company to start this new business endeavor. You must then translate your findings into actionable insights that the head of the new aviation division can use to help decide which aircraft to purchase.\n",
    "\n",
    "## Aim and Goals:\n",
    "\n",
    "This project analyzes aviation accident data from 1962 to 2023 to identify the safest aircraft models. By understanding accident trends, risk factors, and aircraft performance, we aim to provide actionable insights that guide the company in selecting low-risk aircraft for its new aviation division.\n",
    "Project Goals:\n",
    "-  Identify aircraft models with the lowest accident rates.\n",
    "-  Highlight key risk factors contributing to aviation accidents.\n",
    "-  Provide data-backed recommendations for safe aircraft investme\n"
   ]
  },
  {
   "cell_type": "markdown",
   "id": "be5bb2d1-ba4d-4ad9-9dae-c31e3d334c14",
   "metadata": {},
   "source": [
    "## 1. Understanding the data"
   ]
  },
  {
   "cell_type": "markdown",
   "id": "27e71bff-30ab-4881-bf25-59b1d4196383",
   "metadata": {},
   "source": [
    "Understanding the data helps to clearly grasp what the dataset entails, including what each column represents, the types of values contained, and how complete or consistent it is. This clarity allows you to identify relevant patterns, spot missing or incorrect entries, to ultimately ensures that you conduct accurate and meaningful analyses."
   ]
  },
  {
   "cell_type": "code",
   "execution_count": 160,
   "id": "09bc9ecb-1eb3-4613-b08c-6663fb6d7eb6",
   "metadata": {},
   "outputs": [
    {
     "name": "stderr",
     "output_type": "stream",
     "text": [
      "/var/folders/3s/d5pt38l9793djb6wv9n_4d6w0000gn/T/ipykernel_76904/3486649267.py:3: DtypeWarning: Columns (6,7,28) have mixed types. Specify dtype option on import or set low_memory=False.\n",
      "  aviationdata = pd.read_csv(\"Aviation_Data /AviationData.csv\", encoding='cp1252')\n"
     ]
    }
   ],
   "source": [
    "# loading the data\n",
    "import pandas as pd \n",
    "aviationdata = pd.read_csv(\"Aviation_Data /AviationData.csv\", encoding='cp1252')"
   ]
  },
  {
   "cell_type": "markdown",
   "id": "74d6dda7-9415-4f8c-a0f7-a378fb6860d9",
   "metadata": {},
   "source": [
    "The warning means that pandas found columns containing mixed data types (strings and numbers).\n",
    "It's a common warning with large or unstructured datasets which now brings us to the next step of cleaning the data"
   ]
  },
  {
   "cell_type": "code",
   "execution_count": 161,
   "id": "bd856223-e544-4889-b189-d01546d90739",
   "metadata": {},
   "outputs": [
    {
     "data": {
      "text/html": [
       "<div>\n",
       "<style scoped>\n",
       "    .dataframe tbody tr th:only-of-type {\n",
       "        vertical-align: middle;\n",
       "    }\n",
       "\n",
       "    .dataframe tbody tr th {\n",
       "        vertical-align: top;\n",
       "    }\n",
       "\n",
       "    .dataframe thead th {\n",
       "        text-align: right;\n",
       "    }\n",
       "</style>\n",
       "<table border=\"1\" class=\"dataframe\">\n",
       "  <thead>\n",
       "    <tr style=\"text-align: right;\">\n",
       "      <th></th>\n",
       "      <th>Event.Id</th>\n",
       "      <th>Investigation.Type</th>\n",
       "      <th>Accident.Number</th>\n",
       "      <th>Event.Date</th>\n",
       "      <th>Location</th>\n",
       "      <th>Country</th>\n",
       "      <th>Latitude</th>\n",
       "      <th>Longitude</th>\n",
       "      <th>Airport.Code</th>\n",
       "      <th>Airport.Name</th>\n",
       "      <th>...</th>\n",
       "      <th>Purpose.of.flight</th>\n",
       "      <th>Air.carrier</th>\n",
       "      <th>Total.Fatal.Injuries</th>\n",
       "      <th>Total.Serious.Injuries</th>\n",
       "      <th>Total.Minor.Injuries</th>\n",
       "      <th>Total.Uninjured</th>\n",
       "      <th>Weather.Condition</th>\n",
       "      <th>Broad.phase.of.flight</th>\n",
       "      <th>Report.Status</th>\n",
       "      <th>Publication.Date</th>\n",
       "    </tr>\n",
       "  </thead>\n",
       "  <tbody>\n",
       "    <tr>\n",
       "      <th>0</th>\n",
       "      <td>20001218X45444</td>\n",
       "      <td>Accident</td>\n",
       "      <td>SEA87LA080</td>\n",
       "      <td>1948-10-24</td>\n",
       "      <td>MOOSE CREEK, ID</td>\n",
       "      <td>United States</td>\n",
       "      <td>NaN</td>\n",
       "      <td>NaN</td>\n",
       "      <td>NaN</td>\n",
       "      <td>NaN</td>\n",
       "      <td>...</td>\n",
       "      <td>Personal</td>\n",
       "      <td>NaN</td>\n",
       "      <td>2.0</td>\n",
       "      <td>0.0</td>\n",
       "      <td>0.0</td>\n",
       "      <td>0.0</td>\n",
       "      <td>UNK</td>\n",
       "      <td>Cruise</td>\n",
       "      <td>Probable Cause</td>\n",
       "      <td>NaN</td>\n",
       "    </tr>\n",
       "    <tr>\n",
       "      <th>1</th>\n",
       "      <td>20001218X45447</td>\n",
       "      <td>Accident</td>\n",
       "      <td>LAX94LA336</td>\n",
       "      <td>1962-07-19</td>\n",
       "      <td>BRIDGEPORT, CA</td>\n",
       "      <td>United States</td>\n",
       "      <td>NaN</td>\n",
       "      <td>NaN</td>\n",
       "      <td>NaN</td>\n",
       "      <td>NaN</td>\n",
       "      <td>...</td>\n",
       "      <td>Personal</td>\n",
       "      <td>NaN</td>\n",
       "      <td>4.0</td>\n",
       "      <td>0.0</td>\n",
       "      <td>0.0</td>\n",
       "      <td>0.0</td>\n",
       "      <td>UNK</td>\n",
       "      <td>Unknown</td>\n",
       "      <td>Probable Cause</td>\n",
       "      <td>19-09-1996</td>\n",
       "    </tr>\n",
       "    <tr>\n",
       "      <th>2</th>\n",
       "      <td>20061025X01555</td>\n",
       "      <td>Accident</td>\n",
       "      <td>NYC07LA005</td>\n",
       "      <td>1974-08-30</td>\n",
       "      <td>Saltville, VA</td>\n",
       "      <td>United States</td>\n",
       "      <td>36.922223</td>\n",
       "      <td>-81.878056</td>\n",
       "      <td>NaN</td>\n",
       "      <td>NaN</td>\n",
       "      <td>...</td>\n",
       "      <td>Personal</td>\n",
       "      <td>NaN</td>\n",
       "      <td>3.0</td>\n",
       "      <td>NaN</td>\n",
       "      <td>NaN</td>\n",
       "      <td>NaN</td>\n",
       "      <td>IMC</td>\n",
       "      <td>Cruise</td>\n",
       "      <td>Probable Cause</td>\n",
       "      <td>26-02-2007</td>\n",
       "    </tr>\n",
       "    <tr>\n",
       "      <th>3</th>\n",
       "      <td>20001218X45448</td>\n",
       "      <td>Accident</td>\n",
       "      <td>LAX96LA321</td>\n",
       "      <td>1977-06-19</td>\n",
       "      <td>EUREKA, CA</td>\n",
       "      <td>United States</td>\n",
       "      <td>NaN</td>\n",
       "      <td>NaN</td>\n",
       "      <td>NaN</td>\n",
       "      <td>NaN</td>\n",
       "      <td>...</td>\n",
       "      <td>Personal</td>\n",
       "      <td>NaN</td>\n",
       "      <td>2.0</td>\n",
       "      <td>0.0</td>\n",
       "      <td>0.0</td>\n",
       "      <td>0.0</td>\n",
       "      <td>IMC</td>\n",
       "      <td>Cruise</td>\n",
       "      <td>Probable Cause</td>\n",
       "      <td>12-09-2000</td>\n",
       "    </tr>\n",
       "    <tr>\n",
       "      <th>4</th>\n",
       "      <td>20041105X01764</td>\n",
       "      <td>Accident</td>\n",
       "      <td>CHI79FA064</td>\n",
       "      <td>1979-08-02</td>\n",
       "      <td>Canton, OH</td>\n",
       "      <td>United States</td>\n",
       "      <td>NaN</td>\n",
       "      <td>NaN</td>\n",
       "      <td>NaN</td>\n",
       "      <td>NaN</td>\n",
       "      <td>...</td>\n",
       "      <td>Personal</td>\n",
       "      <td>NaN</td>\n",
       "      <td>1.0</td>\n",
       "      <td>2.0</td>\n",
       "      <td>NaN</td>\n",
       "      <td>0.0</td>\n",
       "      <td>VMC</td>\n",
       "      <td>Approach</td>\n",
       "      <td>Probable Cause</td>\n",
       "      <td>16-04-1980</td>\n",
       "    </tr>\n",
       "  </tbody>\n",
       "</table>\n",
       "<p>5 rows × 31 columns</p>\n",
       "</div>"
      ],
      "text/plain": [
       "         Event.Id Investigation.Type Accident.Number  Event.Date  \\\n",
       "0  20001218X45444           Accident      SEA87LA080  1948-10-24   \n",
       "1  20001218X45447           Accident      LAX94LA336  1962-07-19   \n",
       "2  20061025X01555           Accident      NYC07LA005  1974-08-30   \n",
       "3  20001218X45448           Accident      LAX96LA321  1977-06-19   \n",
       "4  20041105X01764           Accident      CHI79FA064  1979-08-02   \n",
       "\n",
       "          Location        Country   Latitude  Longitude Airport.Code  \\\n",
       "0  MOOSE CREEK, ID  United States        NaN        NaN          NaN   \n",
       "1   BRIDGEPORT, CA  United States        NaN        NaN          NaN   \n",
       "2    Saltville, VA  United States  36.922223 -81.878056          NaN   \n",
       "3       EUREKA, CA  United States        NaN        NaN          NaN   \n",
       "4       Canton, OH  United States        NaN        NaN          NaN   \n",
       "\n",
       "  Airport.Name  ... Purpose.of.flight Air.carrier Total.Fatal.Injuries  \\\n",
       "0          NaN  ...          Personal         NaN                  2.0   \n",
       "1          NaN  ...          Personal         NaN                  4.0   \n",
       "2          NaN  ...          Personal         NaN                  3.0   \n",
       "3          NaN  ...          Personal         NaN                  2.0   \n",
       "4          NaN  ...          Personal         NaN                  1.0   \n",
       "\n",
       "  Total.Serious.Injuries Total.Minor.Injuries Total.Uninjured  \\\n",
       "0                    0.0                  0.0             0.0   \n",
       "1                    0.0                  0.0             0.0   \n",
       "2                    NaN                  NaN             NaN   \n",
       "3                    0.0                  0.0             0.0   \n",
       "4                    2.0                  NaN             0.0   \n",
       "\n",
       "  Weather.Condition  Broad.phase.of.flight   Report.Status Publication.Date  \n",
       "0               UNK                 Cruise  Probable Cause              NaN  \n",
       "1               UNK                Unknown  Probable Cause       19-09-1996  \n",
       "2               IMC                 Cruise  Probable Cause       26-02-2007  \n",
       "3               IMC                 Cruise  Probable Cause       12-09-2000  \n",
       "4               VMC               Approach  Probable Cause       16-04-1980  \n",
       "\n",
       "[5 rows x 31 columns]"
      ]
     },
     "execution_count": 161,
     "metadata": {},
     "output_type": "execute_result"
    }
   ],
   "source": [
    "# viewing the first five rows\n",
    "aviationdata.head()"
   ]
  },
  {
   "cell_type": "code",
   "execution_count": 162,
   "id": "f6e32aed-1531-46c0-9206-fe457fda5c50",
   "metadata": {},
   "outputs": [
    {
     "name": "stdout",
     "output_type": "stream",
     "text": [
      "<class 'pandas.core.frame.DataFrame'>\n",
      "RangeIndex: 88889 entries, 0 to 88888\n",
      "Data columns (total 31 columns):\n",
      " #   Column                  Non-Null Count  Dtype  \n",
      "---  ------                  --------------  -----  \n",
      " 0   Event.Id                88889 non-null  object \n",
      " 1   Investigation.Type      88889 non-null  object \n",
      " 2   Accident.Number         88889 non-null  object \n",
      " 3   Event.Date              88889 non-null  object \n",
      " 4   Location                88837 non-null  object \n",
      " 5   Country                 88663 non-null  object \n",
      " 6   Latitude                34382 non-null  object \n",
      " 7   Longitude               34373 non-null  object \n",
      " 8   Airport.Code            50132 non-null  object \n",
      " 9   Airport.Name            52704 non-null  object \n",
      " 10  Injury.Severity         87889 non-null  object \n",
      " 11  Aircraft.damage         85695 non-null  object \n",
      " 12  Aircraft.Category       32287 non-null  object \n",
      " 13  Registration.Number     87507 non-null  object \n",
      " 14  Make                    88826 non-null  object \n",
      " 15  Model                   88797 non-null  object \n",
      " 16  Amateur.Built           88787 non-null  object \n",
      " 17  Number.of.Engines       82805 non-null  float64\n",
      " 18  Engine.Type             81793 non-null  object \n",
      " 19  FAR.Description         32023 non-null  object \n",
      " 20  Schedule                12582 non-null  object \n",
      " 21  Purpose.of.flight       82697 non-null  object \n",
      " 22  Air.carrier             16648 non-null  object \n",
      " 23  Total.Fatal.Injuries    77488 non-null  float64\n",
      " 24  Total.Serious.Injuries  76379 non-null  float64\n",
      " 25  Total.Minor.Injuries    76956 non-null  float64\n",
      " 26  Total.Uninjured         82977 non-null  float64\n",
      " 27  Weather.Condition       84397 non-null  object \n",
      " 28  Broad.phase.of.flight   61724 non-null  object \n",
      " 29  Report.Status           82505 non-null  object \n",
      " 30  Publication.Date        75118 non-null  object \n",
      "dtypes: float64(5), object(26)\n",
      "memory usage: 21.0+ MB\n"
     ]
    }
   ],
   "source": [
    "# viewing the general info of the data \n",
    "aviationdata.info()"
   ]
  },
  {
   "cell_type": "markdown",
   "id": "7ec0968c-67d1-47ad-9bd7-4f378cfece81",
   "metadata": {},
   "source": [
    "The above general infomation helps to quickly understand the data I am working on in my case:\n",
    "- The dataset contains 88,889 entries and 31 columns.\n",
    "- Reveals the type of data if its text ,numbers or floats in each column.\n",
    "- Identifies columns with missing data.\n",
    "- Reveals the current data type of data each column."
   ]
  },
  {
   "cell_type": "markdown",
   "id": "bfac138c-5c2b-4288-8596-4d5d2ac55409",
   "metadata": {},
   "source": [
    "# 2. Data Cleaning "
   ]
  },
  {
   "cell_type": "markdown",
   "id": "1652a81f-2b7c-4b91-814d-d98d40d009c7",
   "metadata": {},
   "source": [
    "Data cleaning is crucial  as it ensures our data is clean, structured, and reliable to perform accurate analysis and extract meaningful insights.\n",
    "This process will include:\n",
    "- Handling missing values\n",
    "- Dealing with duplicates\n",
    "- Correcting data types\n",
    "- standardizing the date formarts"
   ]
  },
  {
   "cell_type": "code",
   "execution_count": 257,
   "id": "a20c1637-c6e3-4909-9cf5-35b6f92fb3cc",
   "metadata": {},
   "outputs": [],
   "source": [
    "''' Creating a copy of my data so as to work on the copy instead of of original data'''\n",
    "avidatacopy = aviationdata.copy()"
   ]
  },
  {
   "cell_type": "code",
   "execution_count": 258,
   "id": "bed598bc-251e-4f66-9481-5c55ac983663",
   "metadata": {},
   "outputs": [
    {
     "data": {
      "text/html": [
       "<div>\n",
       "<style scoped>\n",
       "    .dataframe tbody tr th:only-of-type {\n",
       "        vertical-align: middle;\n",
       "    }\n",
       "\n",
       "    .dataframe tbody tr th {\n",
       "        vertical-align: top;\n",
       "    }\n",
       "\n",
       "    .dataframe thead th {\n",
       "        text-align: right;\n",
       "    }\n",
       "</style>\n",
       "<table border=\"1\" class=\"dataframe\">\n",
       "  <thead>\n",
       "    <tr style=\"text-align: right;\">\n",
       "      <th></th>\n",
       "      <th>Event.Id</th>\n",
       "      <th>Investigation.Type</th>\n",
       "      <th>Accident.Number</th>\n",
       "      <th>Event.Date</th>\n",
       "      <th>Location</th>\n",
       "      <th>Country</th>\n",
       "      <th>Latitude</th>\n",
       "      <th>Longitude</th>\n",
       "      <th>Airport.Code</th>\n",
       "      <th>Airport.Name</th>\n",
       "      <th>...</th>\n",
       "      <th>Purpose.of.flight</th>\n",
       "      <th>Air.carrier</th>\n",
       "      <th>Total.Fatal.Injuries</th>\n",
       "      <th>Total.Serious.Injuries</th>\n",
       "      <th>Total.Minor.Injuries</th>\n",
       "      <th>Total.Uninjured</th>\n",
       "      <th>Weather.Condition</th>\n",
       "      <th>Broad.phase.of.flight</th>\n",
       "      <th>Report.Status</th>\n",
       "      <th>Publication.Date</th>\n",
       "    </tr>\n",
       "  </thead>\n",
       "  <tbody>\n",
       "    <tr>\n",
       "      <th>0</th>\n",
       "      <td>20001218X45444</td>\n",
       "      <td>Accident</td>\n",
       "      <td>SEA87LA080</td>\n",
       "      <td>1948-10-24</td>\n",
       "      <td>MOOSE CREEK, ID</td>\n",
       "      <td>United States</td>\n",
       "      <td>NaN</td>\n",
       "      <td>NaN</td>\n",
       "      <td>NaN</td>\n",
       "      <td>NaN</td>\n",
       "      <td>...</td>\n",
       "      <td>Personal</td>\n",
       "      <td>NaN</td>\n",
       "      <td>2.0</td>\n",
       "      <td>0.0</td>\n",
       "      <td>0.0</td>\n",
       "      <td>0.0</td>\n",
       "      <td>UNK</td>\n",
       "      <td>Cruise</td>\n",
       "      <td>Probable Cause</td>\n",
       "      <td>NaN</td>\n",
       "    </tr>\n",
       "    <tr>\n",
       "      <th>1</th>\n",
       "      <td>20001218X45447</td>\n",
       "      <td>Accident</td>\n",
       "      <td>LAX94LA336</td>\n",
       "      <td>1962-07-19</td>\n",
       "      <td>BRIDGEPORT, CA</td>\n",
       "      <td>United States</td>\n",
       "      <td>NaN</td>\n",
       "      <td>NaN</td>\n",
       "      <td>NaN</td>\n",
       "      <td>NaN</td>\n",
       "      <td>...</td>\n",
       "      <td>Personal</td>\n",
       "      <td>NaN</td>\n",
       "      <td>4.0</td>\n",
       "      <td>0.0</td>\n",
       "      <td>0.0</td>\n",
       "      <td>0.0</td>\n",
       "      <td>UNK</td>\n",
       "      <td>Unknown</td>\n",
       "      <td>Probable Cause</td>\n",
       "      <td>19-09-1996</td>\n",
       "    </tr>\n",
       "    <tr>\n",
       "      <th>2</th>\n",
       "      <td>20061025X01555</td>\n",
       "      <td>Accident</td>\n",
       "      <td>NYC07LA005</td>\n",
       "      <td>1974-08-30</td>\n",
       "      <td>Saltville, VA</td>\n",
       "      <td>United States</td>\n",
       "      <td>36.922223</td>\n",
       "      <td>-81.878056</td>\n",
       "      <td>NaN</td>\n",
       "      <td>NaN</td>\n",
       "      <td>...</td>\n",
       "      <td>Personal</td>\n",
       "      <td>NaN</td>\n",
       "      <td>3.0</td>\n",
       "      <td>NaN</td>\n",
       "      <td>NaN</td>\n",
       "      <td>NaN</td>\n",
       "      <td>IMC</td>\n",
       "      <td>Cruise</td>\n",
       "      <td>Probable Cause</td>\n",
       "      <td>26-02-2007</td>\n",
       "    </tr>\n",
       "  </tbody>\n",
       "</table>\n",
       "<p>3 rows × 31 columns</p>\n",
       "</div>"
      ],
      "text/plain": [
       "         Event.Id Investigation.Type Accident.Number  Event.Date  \\\n",
       "0  20001218X45444           Accident      SEA87LA080  1948-10-24   \n",
       "1  20001218X45447           Accident      LAX94LA336  1962-07-19   \n",
       "2  20061025X01555           Accident      NYC07LA005  1974-08-30   \n",
       "\n",
       "          Location        Country   Latitude  Longitude Airport.Code  \\\n",
       "0  MOOSE CREEK, ID  United States        NaN        NaN          NaN   \n",
       "1   BRIDGEPORT, CA  United States        NaN        NaN          NaN   \n",
       "2    Saltville, VA  United States  36.922223 -81.878056          NaN   \n",
       "\n",
       "  Airport.Name  ... Purpose.of.flight Air.carrier Total.Fatal.Injuries  \\\n",
       "0          NaN  ...          Personal         NaN                  2.0   \n",
       "1          NaN  ...          Personal         NaN                  4.0   \n",
       "2          NaN  ...          Personal         NaN                  3.0   \n",
       "\n",
       "  Total.Serious.Injuries Total.Minor.Injuries Total.Uninjured  \\\n",
       "0                    0.0                  0.0             0.0   \n",
       "1                    0.0                  0.0             0.0   \n",
       "2                    NaN                  NaN             NaN   \n",
       "\n",
       "  Weather.Condition  Broad.phase.of.flight   Report.Status Publication.Date  \n",
       "0               UNK                 Cruise  Probable Cause              NaN  \n",
       "1               UNK                Unknown  Probable Cause       19-09-1996  \n",
       "2               IMC                 Cruise  Probable Cause       26-02-2007  \n",
       "\n",
       "[3 rows x 31 columns]"
      ]
     },
     "execution_count": 258,
     "metadata": {},
     "output_type": "execute_result"
    }
   ],
   "source": [
    "avidatacopy.head(n=3)"
   ]
  },
  {
   "cell_type": "markdown",
   "id": "c456f74c-fe47-49ee-baff-562355dd1835",
   "metadata": {},
   "source": [
    "## i) Handling missing values "
   ]
  },
  {
   "cell_type": "code",
   "execution_count": 259,
   "id": "7e1c27b6-5b47-468a-9639-50cef36464db",
   "metadata": {},
   "outputs": [
    {
     "data": {
      "text/plain": [
       "Location                     52\n",
       "Country                     226\n",
       "Latitude                  54507\n",
       "Longitude                 54516\n",
       "Airport.Code              38757\n",
       "Airport.Name              36185\n",
       "Injury.Severity            1000\n",
       "Aircraft.damage            3194\n",
       "Aircraft.Category         56602\n",
       "Registration.Number        1382\n",
       "Make                         63\n",
       "Model                        92\n",
       "Amateur.Built               102\n",
       "Number.of.Engines          6084\n",
       "Engine.Type                7096\n",
       "FAR.Description           56866\n",
       "Schedule                  76307\n",
       "Purpose.of.flight          6192\n",
       "Air.carrier               72241\n",
       "Total.Fatal.Injuries      11401\n",
       "Total.Serious.Injuries    12510\n",
       "Total.Minor.Injuries      11933\n",
       "Total.Uninjured            5912\n",
       "Weather.Condition          4492\n",
       "Broad.phase.of.flight     27165\n",
       "Report.Status              6384\n",
       "Publication.Date          13771\n",
       "dtype: int64"
      ]
     },
     "execution_count": 259,
     "metadata": {},
     "output_type": "execute_result"
    }
   ],
   "source": [
    "# Checking for all the columns with missing values and the count of values missing\n",
    "avidatacopy.isnull().sum()[avidatacopy.isnull().sum()>0]"
   ]
  },
  {
   "cell_type": "markdown",
   "id": "92e547f4-0bca-4d41-b9ac-09818933baa4",
   "metadata": {},
   "source": [
    "- Replacing the Location missing values with \"Unknown\" since we do not know the location names"
   ]
  },
  {
   "cell_type": "code",
   "execution_count": 260,
   "id": "33f5a0f3-3ba8-4d26-a152-00d0724d34c5",
   "metadata": {},
   "outputs": [],
   "source": [
    "# Handling missing values in the Location column \n",
    "avidatacopy[\"Location\"]= avidatacopy[\"Location\"].fillna(\"Unknown\")"
   ]
  },
  {
   "cell_type": "code",
   "execution_count": 261,
   "id": "fb02d736-704e-4db0-a202-2503dd62627c",
   "metadata": {},
   "outputs": [
    {
     "data": {
      "text/plain": [
       "0"
      ]
     },
     "execution_count": 261,
     "metadata": {},
     "output_type": "execute_result"
    }
   ],
   "source": [
    "avidatacopy[\"Location\"].isnull().sum()"
   ]
  },
  {
   "cell_type": "markdown",
   "id": "b9347030-c34c-4466-938e-72871d925059",
   "metadata": {},
   "source": [
    "- Filling the missing country names with the most frequent country occuring "
   ]
  },
  {
   "cell_type": "code",
   "execution_count": 262,
   "id": "c4935181-e8f3-43a3-a022-cdcc3605d6a4",
   "metadata": {},
   "outputs": [
    {
     "data": {
      "text/plain": [
       "Country\n",
       "United States                       82248\n",
       "Brazil                                374\n",
       "Canada                                359\n",
       "Mexico                                358\n",
       "United Kingdom                        344\n",
       "                                    ...  \n",
       "Seychelles                              1\n",
       "Palau                                   1\n",
       "Libya                                   1\n",
       "Saint Vincent and the Grenadines        1\n",
       "Turks and Caicos Islands                1\n",
       "Name: count, Length: 219, dtype: int64"
      ]
     },
     "execution_count": 262,
     "metadata": {},
     "output_type": "execute_result"
    }
   ],
   "source": [
    "#The most frequent country is United States\n",
    "avidatacopy[\"Country\"].value_counts()"
   ]
  },
  {
   "cell_type": "code",
   "execution_count": 263,
   "id": "c8aa26ee-da53-4797-885c-9739be283a30",
   "metadata": {},
   "outputs": [
    {
     "data": {
      "text/plain": [
       "'United States'"
      ]
     },
     "execution_count": 263,
     "metadata": {},
     "output_type": "execute_result"
    }
   ],
   "source": [
    "#filling the missing values with the mode()\n",
    "frequent_country = avidatacopy[\"Country\"].mode().iloc[0]\n",
    "frequent_country"
   ]
  },
  {
   "cell_type": "code",
   "execution_count": 264,
   "id": "0e382b91-323a-4d5e-bb80-5c94c9d74005",
   "metadata": {},
   "outputs": [],
   "source": [
    "# replacing the missing values withe mode()\n",
    "avidatacopy[\"Country\"] = avidatacopy[\"Country\"].fillna(frequent_country)"
   ]
  },
  {
   "cell_type": "code",
   "execution_count": 265,
   "id": "6215453d-b2ec-4469-9537-fa84a7a12afe",
   "metadata": {},
   "outputs": [
    {
     "data": {
      "text/plain": [
       "0"
      ]
     },
     "execution_count": 265,
     "metadata": {},
     "output_type": "execute_result"
    }
   ],
   "source": [
    "avidatacopy[\"Country\"].isnull().sum()"
   ]
  },
  {
   "cell_type": "markdown",
   "id": "2e5702cc-663a-48e2-be58-5ba2c449dc02",
   "metadata": {},
   "source": [
    "- Dropping both the Latitude and longitude columns since they have alot of missing values \n",
    "- In my analysis I will use the Locations and country instead of the latitude and longitude"
   ]
  },
  {
   "cell_type": "code",
   "execution_count": 266,
   "id": "d1fc1b74-bea6-40e8-a604-8882c2b02f5b",
   "metadata": {},
   "outputs": [],
   "source": [
    "#Dropping both the latitude and longitude columns\n",
    "avidatacopy.drop(columns=['Latitude', 'Longitude'], inplace=True)"
   ]
  },
  {
   "cell_type": "markdown",
   "id": "ff021076-aa89-46ab-b172-6bf677692512",
   "metadata": {},
   "source": [
    "- Dropping the Airport.Code column for it has alot of missing values"
   ]
  },
  {
   "cell_type": "code",
   "execution_count": 267,
   "id": "4a1b552e-d86f-46bc-a190-0807befd8d1a",
   "metadata": {},
   "outputs": [
    {
     "data": {
      "text/plain": [
       "Airport.Code\n",
       "NONE    1488\n",
       "PVT      485\n",
       "APA      160\n",
       "ORD      149\n",
       "MRI      137\n",
       "        ... \n",
       "7NJ9       1\n",
       "CWV        1\n",
       "5QA        1\n",
       "M55        1\n",
       "EIKH       1\n",
       "Name: count, Length: 10374, dtype: int64"
      ]
     },
     "execution_count": 267,
     "metadata": {},
     "output_type": "execute_result"
    }
   ],
   "source": [
    "avidatacopy[\"Airport.Code\"].value_counts()"
   ]
  },
  {
   "cell_type": "code",
   "execution_count": 268,
   "id": "756a845e-50e8-4af3-aec8-195e28796c9f",
   "metadata": {
    "scrolled": true
   },
   "outputs": [],
   "source": [
    "avidatacopy = avidatacopy.drop(columns = [\"Airport.Code\"])"
   ]
  },
  {
   "cell_type": "code",
   "execution_count": 269,
   "id": "804030b9-cfe1-4d9f-ab6c-281fce84e804",
   "metadata": {},
   "outputs": [
    {
     "data": {
      "text/plain": [
       "Index(['Event.Id', 'Investigation.Type', 'Accident.Number', 'Event.Date',\n",
       "       'Location', 'Country', 'Airport.Name', 'Injury.Severity',\n",
       "       'Aircraft.damage', 'Aircraft.Category', 'Registration.Number', 'Make',\n",
       "       'Model', 'Amateur.Built', 'Number.of.Engines', 'Engine.Type',\n",
       "       'FAR.Description', 'Schedule', 'Purpose.of.flight', 'Air.carrier',\n",
       "       'Total.Fatal.Injuries', 'Total.Serious.Injuries',\n",
       "       'Total.Minor.Injuries', 'Total.Uninjured', 'Weather.Condition',\n",
       "       'Broad.phase.of.flight', 'Report.Status', 'Publication.Date'],\n",
       "      dtype='object')"
      ]
     },
     "execution_count": 269,
     "metadata": {},
     "output_type": "execute_result"
    }
   ],
   "source": [
    "# Checking the remaining columns after dropping some of them\n",
    "avidatacopy.columns"
   ]
  },
  {
   "cell_type": "markdown",
   "id": "ee8cc9f0-14f3-46fd-b7be-2844158daac1",
   "metadata": {},
   "source": [
    "- filling the Airport.Name missing values with \"Unknown\" since we were not given the Airport.Names"
   ]
  },
  {
   "cell_type": "code",
   "execution_count": 270,
   "id": "39ae4201-cf0a-489d-88cc-64b840ead613",
   "metadata": {},
   "outputs": [],
   "source": [
    "avidatacopy[\"Airport.Name\"] = avidatacopy[\"Airport.Name\"].fillna(\"Unknown\")"
   ]
  },
  {
   "cell_type": "code",
   "execution_count": 271,
   "id": "96ef907d-4261-495b-8062-f1ba892f914a",
   "metadata": {
    "scrolled": true
   },
   "outputs": [
    {
     "name": "stdout",
     "output_type": "stream",
     "text": [
      "<class 'pandas.core.frame.DataFrame'>\n",
      "RangeIndex: 88889 entries, 0 to 88888\n",
      "Data columns (total 28 columns):\n",
      " #   Column                  Non-Null Count  Dtype  \n",
      "---  ------                  --------------  -----  \n",
      " 0   Event.Id                88889 non-null  object \n",
      " 1   Investigation.Type      88889 non-null  object \n",
      " 2   Accident.Number         88889 non-null  object \n",
      " 3   Event.Date              88889 non-null  object \n",
      " 4   Location                88889 non-null  object \n",
      " 5   Country                 88889 non-null  object \n",
      " 6   Airport.Name            88889 non-null  object \n",
      " 7   Injury.Severity         87889 non-null  object \n",
      " 8   Aircraft.damage         85695 non-null  object \n",
      " 9   Aircraft.Category       32287 non-null  object \n",
      " 10  Registration.Number     87507 non-null  object \n",
      " 11  Make                    88826 non-null  object \n",
      " 12  Model                   88797 non-null  object \n",
      " 13  Amateur.Built           88787 non-null  object \n",
      " 14  Number.of.Engines       82805 non-null  float64\n",
      " 15  Engine.Type             81793 non-null  object \n",
      " 16  FAR.Description         32023 non-null  object \n",
      " 17  Schedule                12582 non-null  object \n",
      " 18  Purpose.of.flight       82697 non-null  object \n",
      " 19  Air.carrier             16648 non-null  object \n",
      " 20  Total.Fatal.Injuries    77488 non-null  float64\n",
      " 21  Total.Serious.Injuries  76379 non-null  float64\n",
      " 22  Total.Minor.Injuries    76956 non-null  float64\n",
      " 23  Total.Uninjured         82977 non-null  float64\n",
      " 24  Weather.Condition       84397 non-null  object \n",
      " 25  Broad.phase.of.flight   61724 non-null  object \n",
      " 26  Report.Status           82505 non-null  object \n",
      " 27  Publication.Date        75118 non-null  object \n",
      "dtypes: float64(5), object(23)\n",
      "memory usage: 19.0+ MB\n"
     ]
    }
   ],
   "source": [
    "# Confirming the data information so far after the changes.\n",
    "avidatacopy.info()"
   ]
  },
  {
   "cell_type": "markdown",
   "id": "64757e10-d496-4c7c-a6ec-f4377eae5dc7",
   "metadata": {},
   "source": [
    "Dropping the numbers in brackets after Fatal to categorize all the fatal as \"Fatal\" and filling the missing values with the mode()."
   ]
  },
  {
   "cell_type": "code",
   "execution_count": 272,
   "id": "d226ffe6-c851-454e-a904-ac7cdb209231",
   "metadata": {},
   "outputs": [
    {
     "data": {
      "text/plain": [
       "Injury.Severity\n",
       "Non-Fatal     67357\n",
       "Fatal(1)       6167\n",
       "Fatal          5262\n",
       "Fatal(2)       3711\n",
       "Incident       2219\n",
       "              ...  \n",
       "Fatal(270)        1\n",
       "Fatal(60)         1\n",
       "Fatal(43)         1\n",
       "Fatal(143)        1\n",
       "Fatal(230)        1\n",
       "Name: count, Length: 109, dtype: int64"
      ]
     },
     "execution_count": 272,
     "metadata": {},
     "output_type": "execute_result"
    }
   ],
   "source": [
    "#viewing the column to understand how it looks like\n",
    "avidatacopy[\"Injury.Severity\"].value_counts()"
   ]
  },
  {
   "cell_type": "code",
   "execution_count": 275,
   "id": "1b9c138a-8e5b-4c8f-b8c2-89871c464a07",
   "metadata": {},
   "outputs": [],
   "source": [
    "# Dropping the numbers in brackets after the Fatal and accounting for different values in the column including NaN\n",
    "def cleaned_injury_severity(data):\n",
    "    cleaned_data = []\n",
    "    for word in data:\n",
    "        if isinstance(word, float):\n",
    "            cleaned_data.append(None)\n",
    "        elif word == \"Fatal\":\n",
    "            cleaned_data.append(word)\n",
    "        elif \"Fatal\" in word:\n",
    "            cleaned_data.append(word.split(\"(\")[0])\n",
    "        else:\n",
    "            cleaned_data.append(word)\n",
    "    return cleaned_data\n",
    "\n",
    "avidatacopy[\"Injury.Severity\"] = cleaned_injury_severity(avidatacopy[\"Injury.Severity\"])"
   ]
  },
  {
   "cell_type": "code",
   "execution_count": 276,
   "id": "0921e582-b341-49a6-a75a-47b85b58e699",
   "metadata": {},
   "outputs": [
    {
     "data": {
      "text/plain": [
       "Injury.Severity\n",
       "Non-Fatal      67357\n",
       "Fatal          17826\n",
       "Incident        2219\n",
       "Minor            218\n",
       "Serious          173\n",
       "Unavailable       96\n",
       "Name: count, dtype: int64"
      ]
     },
     "execution_count": 276,
     "metadata": {},
     "output_type": "execute_result"
    }
   ],
   "source": [
    "#Confirming the code has changed and worked\n",
    "avidatacopy[\"Injury.Severity\"].value_counts()"
   ]
  },
  {
   "cell_type": "code",
   "execution_count": 278,
   "id": "57621d7c-4cd5-4a7e-b2ec-0fe557e5bc58",
   "metadata": {},
   "outputs": [
    {
     "data": {
      "text/plain": [
       "1000"
      ]
     },
     "execution_count": 278,
     "metadata": {},
     "output_type": "execute_result"
    }
   ],
   "source": [
    "# Checking the missing values \n",
    "avidatacopy[\"Injury.Severity\"].isnull().sum()"
   ]
  },
  {
   "cell_type": "markdown",
   "id": "86381dbc-5503-4141-b0dd-85a43a0fb59b",
   "metadata": {},
   "source": [
    "- We have 1000 missing values from the avidatacopy[\"Injury.Severity\"]. \n",
    "- To make sure the values are uniform I will fill the missing values with \"Unavailable\" since we were not given the severity of the accident.\n",
    "- Incident is not clear whether injury occured and was not recorded or there was no injury *It required further investigation*\n",
    "- \"Incidents\" in the column is meant to represent injury severity, but it suggests that either the data entry is inconsistent or that the information is being misclassified \n",
    "- Non-Fatal does not indicate whether the injuries were serious or minor ,it only conculdes that the accident did not lead to death.\n",
    "- To investigate this column I will use the Total.Fatal.Injuries ,Total.Serious.Injuries ,Total.Minor.Injuries ,Total.Uninjured  columns to determine the Injury .Severity.\n",
    "- I will create another column to clasiffy the Severity as [Fatal,Serious injuries,Minor injuries,Uninjured,Unknown] This will give a clear view of the severity while clasiffying even the Unknown ones."
   ]
  },
  {
   "cell_type": "markdown",
   "id": "1bbe1798-e57d-43a6-bae0-f1985260b908",
   "metadata": {},
   "source": [
    "To achieve the above I first have to ensure the columns [\"Total.Fatal.Injuries\",\"Total.Serious.Injuries\",\"Total.Minor.Injuries\",\"Total.Uninjured\"]\n",
    "Do not have missing values and if they have I will use the placeholder of \"Unknow\" to avoiding assuming the counts "
   ]
  },
  {
   "cell_type": "code",
   "execution_count": 285,
   "id": "5af2bce1-d0e9-4294-a91a-923e46af1c0a",
   "metadata": {},
   "outputs": [
    {
     "data": {
      "text/plain": [
       "Total.Fatal.Injuries      11401\n",
       "Total.Serious.Injuries    12510\n",
       "Total.Minor.Injuries      11933\n",
       "Total.Uninjured            5912\n",
       "dtype: int64"
      ]
     },
     "execution_count": 285,
     "metadata": {},
     "output_type": "execute_result"
    }
   ],
   "source": [
    "# Checking for missing values in the column Total.Fatal.Injuries\n",
    "injury_cols = ['Total.Fatal.Injuries', 'Total.Serious.Injuries', 'Total.Minor.Injuries', 'Total.Uninjured']\n",
    "missing_value_sum = avidatacopy[injury_cols].isnull().sum()\n",
    "missing_value_sum"
   ]
  },
  {
   "cell_type": "markdown",
   "id": "1bf460aa-30be-4989-9282-9da2c250323a",
   "metadata": {},
   "source": [
    "The above code prints the sum of all the missing values in the columns I am working with.To ensure I get the expected results the missing values will be filled with \"Unknown\""
   ]
  },
  {
   "cell_type": "code",
   "execution_count": null,
   "id": "7b7a61fe-3418-4a6a-b245-8a1dcfc686f1",
   "metadata": {},
   "outputs": [],
   "source": []
  }
 ],
 "metadata": {
  "kernelspec": {
   "display_name": "Python 3 (ipykernel)",
   "language": "python",
   "name": "python3"
  },
  "language_info": {
   "codemirror_mode": {
    "name": "ipython",
    "version": 3
   },
   "file_extension": ".py",
   "mimetype": "text/x-python",
   "name": "python",
   "nbconvert_exporter": "python",
   "pygments_lexer": "ipython3",
   "version": "3.10.16"
  }
 },
 "nbformat": 4,
 "nbformat_minor": 5
}
