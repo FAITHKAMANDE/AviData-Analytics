{
 "cells": [
  {
   "cell_type": "markdown",
   "id": "e9c86bed-41a8-47e5-a455-024886a58c71",
   "metadata": {
    "scrolled": true
   },
   "source": [
    "## Business Problem:\n",
    "\n",
    "The company  is expanding in to new industries to diversify its portfolio. Specifically, they are interested in purchasing and operating airplanes for commercial and private enterprises, but do not know anything about the potential risks of aircraft. You are charged with determining which aircraft are the lowest risk for the company to start this new business endeavor. You must then translate your findings into actionable insights that the head of the new aviation division can use to help decide which aircraft to purchase.\n",
    "\n",
    "## Aim and Goals:\n",
    "\n",
    "This project analyzes aviation accident data from 1962 to 2023 to identify the safest aircraft models. By understanding accident trends, risk factors, and aircraft performance, we aim to provide actionable insights that guide the company in selecting low-risk aircraft for its new aviation division.\n",
    "Project Goals:\n",
    "-  Identify aircraft models with the lowest accident rates.\n",
    "-  Highlight key risk factors contributing to aviation accidents.\n",
    "-  Provide data-backed recommendations for safe aircraft investme\n"
   ]
  },
  {
   "cell_type": "markdown",
   "id": "be5bb2d1-ba4d-4ad9-9dae-c31e3d334c14",
   "metadata": {
    "jp-MarkdownHeadingCollapsed": true
   },
   "source": [
    "# 1. Understanding the data"
   ]
  },
  {
   "cell_type": "markdown",
   "id": "27e71bff-30ab-4881-bf25-59b1d4196383",
   "metadata": {},
   "source": [
    "Understanding the data helps to clearly grasp what the dataset entails, including what each column represents, the types of values contained, and how complete or consistent it is. This clarity allows you to identify relevant patterns, spot missing or incorrect entries, to ultimately ensures that you conduct accurate and meaningful analyses."
   ]
  },
  {
   "cell_type": "code",
   "execution_count": 532,
   "id": "09bc9ecb-1eb3-4613-b08c-6663fb6d7eb6",
   "metadata": {},
   "outputs": [
    {
     "name": "stderr",
     "output_type": "stream",
     "text": [
      "/var/folders/3s/d5pt38l9793djb6wv9n_4d6w0000gn/T/ipykernel_76904/3486649267.py:3: DtypeWarning: Columns (6,7,28) have mixed types. Specify dtype option on import or set low_memory=False.\n",
      "  aviationdata = pd.read_csv(\"Aviation_Data /AviationData.csv\", encoding='cp1252')\n"
     ]
    }
   ],
   "source": [
    "# loading the data\n",
    "import pandas as pd \n",
    "aviationdata = pd.read_csv(\"Aviation_Data /AviationData.csv\", encoding='cp1252')"
   ]
  },
  {
   "cell_type": "markdown",
   "id": "74d6dda7-9415-4f8c-a0f7-a378fb6860d9",
   "metadata": {},
   "source": [
    "The warning means that pandas found columns containing mixed data types (strings and numbers).\n",
    "It's a common warning with large or unstructured datasets which now brings us to the next step of cleaning the data"
   ]
  },
  {
   "cell_type": "code",
   "execution_count": 533,
   "id": "bd856223-e544-4889-b189-d01546d90739",
   "metadata": {},
   "outputs": [
    {
     "data": {
      "text/html": [
       "<div>\n",
       "<style scoped>\n",
       "    .dataframe tbody tr th:only-of-type {\n",
       "        vertical-align: middle;\n",
       "    }\n",
       "\n",
       "    .dataframe tbody tr th {\n",
       "        vertical-align: top;\n",
       "    }\n",
       "\n",
       "    .dataframe thead th {\n",
       "        text-align: right;\n",
       "    }\n",
       "</style>\n",
       "<table border=\"1\" class=\"dataframe\">\n",
       "  <thead>\n",
       "    <tr style=\"text-align: right;\">\n",
       "      <th></th>\n",
       "      <th>Event.Id</th>\n",
       "      <th>Investigation.Type</th>\n",
       "      <th>Accident.Number</th>\n",
       "      <th>Event.Date</th>\n",
       "      <th>Location</th>\n",
       "      <th>Country</th>\n",
       "      <th>Latitude</th>\n",
       "      <th>Longitude</th>\n",
       "      <th>Airport.Code</th>\n",
       "      <th>Airport.Name</th>\n",
       "      <th>...</th>\n",
       "      <th>Purpose.of.flight</th>\n",
       "      <th>Air.carrier</th>\n",
       "      <th>Total.Fatal.Injuries</th>\n",
       "      <th>Total.Serious.Injuries</th>\n",
       "      <th>Total.Minor.Injuries</th>\n",
       "      <th>Total.Uninjured</th>\n",
       "      <th>Weather.Condition</th>\n",
       "      <th>Broad.phase.of.flight</th>\n",
       "      <th>Report.Status</th>\n",
       "      <th>Publication.Date</th>\n",
       "    </tr>\n",
       "  </thead>\n",
       "  <tbody>\n",
       "    <tr>\n",
       "      <th>0</th>\n",
       "      <td>20001218X45444</td>\n",
       "      <td>Accident</td>\n",
       "      <td>SEA87LA080</td>\n",
       "      <td>1948-10-24</td>\n",
       "      <td>MOOSE CREEK, ID</td>\n",
       "      <td>United States</td>\n",
       "      <td>NaN</td>\n",
       "      <td>NaN</td>\n",
       "      <td>NaN</td>\n",
       "      <td>NaN</td>\n",
       "      <td>...</td>\n",
       "      <td>Personal</td>\n",
       "      <td>NaN</td>\n",
       "      <td>2.0</td>\n",
       "      <td>0.0</td>\n",
       "      <td>0.0</td>\n",
       "      <td>0.0</td>\n",
       "      <td>UNK</td>\n",
       "      <td>Cruise</td>\n",
       "      <td>Probable Cause</td>\n",
       "      <td>NaN</td>\n",
       "    </tr>\n",
       "    <tr>\n",
       "      <th>1</th>\n",
       "      <td>20001218X45447</td>\n",
       "      <td>Accident</td>\n",
       "      <td>LAX94LA336</td>\n",
       "      <td>1962-07-19</td>\n",
       "      <td>BRIDGEPORT, CA</td>\n",
       "      <td>United States</td>\n",
       "      <td>NaN</td>\n",
       "      <td>NaN</td>\n",
       "      <td>NaN</td>\n",
       "      <td>NaN</td>\n",
       "      <td>...</td>\n",
       "      <td>Personal</td>\n",
       "      <td>NaN</td>\n",
       "      <td>4.0</td>\n",
       "      <td>0.0</td>\n",
       "      <td>0.0</td>\n",
       "      <td>0.0</td>\n",
       "      <td>UNK</td>\n",
       "      <td>Unknown</td>\n",
       "      <td>Probable Cause</td>\n",
       "      <td>19-09-1996</td>\n",
       "    </tr>\n",
       "    <tr>\n",
       "      <th>2</th>\n",
       "      <td>20061025X01555</td>\n",
       "      <td>Accident</td>\n",
       "      <td>NYC07LA005</td>\n",
       "      <td>1974-08-30</td>\n",
       "      <td>Saltville, VA</td>\n",
       "      <td>United States</td>\n",
       "      <td>36.922223</td>\n",
       "      <td>-81.878056</td>\n",
       "      <td>NaN</td>\n",
       "      <td>NaN</td>\n",
       "      <td>...</td>\n",
       "      <td>Personal</td>\n",
       "      <td>NaN</td>\n",
       "      <td>3.0</td>\n",
       "      <td>NaN</td>\n",
       "      <td>NaN</td>\n",
       "      <td>NaN</td>\n",
       "      <td>IMC</td>\n",
       "      <td>Cruise</td>\n",
       "      <td>Probable Cause</td>\n",
       "      <td>26-02-2007</td>\n",
       "    </tr>\n",
       "    <tr>\n",
       "      <th>3</th>\n",
       "      <td>20001218X45448</td>\n",
       "      <td>Accident</td>\n",
       "      <td>LAX96LA321</td>\n",
       "      <td>1977-06-19</td>\n",
       "      <td>EUREKA, CA</td>\n",
       "      <td>United States</td>\n",
       "      <td>NaN</td>\n",
       "      <td>NaN</td>\n",
       "      <td>NaN</td>\n",
       "      <td>NaN</td>\n",
       "      <td>...</td>\n",
       "      <td>Personal</td>\n",
       "      <td>NaN</td>\n",
       "      <td>2.0</td>\n",
       "      <td>0.0</td>\n",
       "      <td>0.0</td>\n",
       "      <td>0.0</td>\n",
       "      <td>IMC</td>\n",
       "      <td>Cruise</td>\n",
       "      <td>Probable Cause</td>\n",
       "      <td>12-09-2000</td>\n",
       "    </tr>\n",
       "    <tr>\n",
       "      <th>4</th>\n",
       "      <td>20041105X01764</td>\n",
       "      <td>Accident</td>\n",
       "      <td>CHI79FA064</td>\n",
       "      <td>1979-08-02</td>\n",
       "      <td>Canton, OH</td>\n",
       "      <td>United States</td>\n",
       "      <td>NaN</td>\n",
       "      <td>NaN</td>\n",
       "      <td>NaN</td>\n",
       "      <td>NaN</td>\n",
       "      <td>...</td>\n",
       "      <td>Personal</td>\n",
       "      <td>NaN</td>\n",
       "      <td>1.0</td>\n",
       "      <td>2.0</td>\n",
       "      <td>NaN</td>\n",
       "      <td>0.0</td>\n",
       "      <td>VMC</td>\n",
       "      <td>Approach</td>\n",
       "      <td>Probable Cause</td>\n",
       "      <td>16-04-1980</td>\n",
       "    </tr>\n",
       "  </tbody>\n",
       "</table>\n",
       "<p>5 rows × 31 columns</p>\n",
       "</div>"
      ],
      "text/plain": [
       "         Event.Id Investigation.Type Accident.Number  Event.Date  \\\n",
       "0  20001218X45444           Accident      SEA87LA080  1948-10-24   \n",
       "1  20001218X45447           Accident      LAX94LA336  1962-07-19   \n",
       "2  20061025X01555           Accident      NYC07LA005  1974-08-30   \n",
       "3  20001218X45448           Accident      LAX96LA321  1977-06-19   \n",
       "4  20041105X01764           Accident      CHI79FA064  1979-08-02   \n",
       "\n",
       "          Location        Country   Latitude  Longitude Airport.Code  \\\n",
       "0  MOOSE CREEK, ID  United States        NaN        NaN          NaN   \n",
       "1   BRIDGEPORT, CA  United States        NaN        NaN          NaN   \n",
       "2    Saltville, VA  United States  36.922223 -81.878056          NaN   \n",
       "3       EUREKA, CA  United States        NaN        NaN          NaN   \n",
       "4       Canton, OH  United States        NaN        NaN          NaN   \n",
       "\n",
       "  Airport.Name  ... Purpose.of.flight Air.carrier Total.Fatal.Injuries  \\\n",
       "0          NaN  ...          Personal         NaN                  2.0   \n",
       "1          NaN  ...          Personal         NaN                  4.0   \n",
       "2          NaN  ...          Personal         NaN                  3.0   \n",
       "3          NaN  ...          Personal         NaN                  2.0   \n",
       "4          NaN  ...          Personal         NaN                  1.0   \n",
       "\n",
       "  Total.Serious.Injuries Total.Minor.Injuries Total.Uninjured  \\\n",
       "0                    0.0                  0.0             0.0   \n",
       "1                    0.0                  0.0             0.0   \n",
       "2                    NaN                  NaN             NaN   \n",
       "3                    0.0                  0.0             0.0   \n",
       "4                    2.0                  NaN             0.0   \n",
       "\n",
       "  Weather.Condition  Broad.phase.of.flight   Report.Status Publication.Date  \n",
       "0               UNK                 Cruise  Probable Cause              NaN  \n",
       "1               UNK                Unknown  Probable Cause       19-09-1996  \n",
       "2               IMC                 Cruise  Probable Cause       26-02-2007  \n",
       "3               IMC                 Cruise  Probable Cause       12-09-2000  \n",
       "4               VMC               Approach  Probable Cause       16-04-1980  \n",
       "\n",
       "[5 rows x 31 columns]"
      ]
     },
     "execution_count": 533,
     "metadata": {},
     "output_type": "execute_result"
    }
   ],
   "source": [
    "# viewing the first five rows\n",
    "aviationdata.head()"
   ]
  },
  {
   "cell_type": "code",
   "execution_count": 534,
   "id": "f6e32aed-1531-46c0-9206-fe457fda5c50",
   "metadata": {},
   "outputs": [
    {
     "name": "stdout",
     "output_type": "stream",
     "text": [
      "<class 'pandas.core.frame.DataFrame'>\n",
      "RangeIndex: 88889 entries, 0 to 88888\n",
      "Data columns (total 31 columns):\n",
      " #   Column                  Non-Null Count  Dtype  \n",
      "---  ------                  --------------  -----  \n",
      " 0   Event.Id                88889 non-null  object \n",
      " 1   Investigation.Type      88889 non-null  object \n",
      " 2   Accident.Number         88889 non-null  object \n",
      " 3   Event.Date              88889 non-null  object \n",
      " 4   Location                88837 non-null  object \n",
      " 5   Country                 88663 non-null  object \n",
      " 6   Latitude                34382 non-null  object \n",
      " 7   Longitude               34373 non-null  object \n",
      " 8   Airport.Code            50132 non-null  object \n",
      " 9   Airport.Name            52704 non-null  object \n",
      " 10  Injury.Severity         87889 non-null  object \n",
      " 11  Aircraft.damage         85695 non-null  object \n",
      " 12  Aircraft.Category       32287 non-null  object \n",
      " 13  Registration.Number     87507 non-null  object \n",
      " 14  Make                    88826 non-null  object \n",
      " 15  Model                   88797 non-null  object \n",
      " 16  Amateur.Built           88787 non-null  object \n",
      " 17  Number.of.Engines       82805 non-null  float64\n",
      " 18  Engine.Type             81793 non-null  object \n",
      " 19  FAR.Description         32023 non-null  object \n",
      " 20  Schedule                12582 non-null  object \n",
      " 21  Purpose.of.flight       82697 non-null  object \n",
      " 22  Air.carrier             16648 non-null  object \n",
      " 23  Total.Fatal.Injuries    77488 non-null  float64\n",
      " 24  Total.Serious.Injuries  76379 non-null  float64\n",
      " 25  Total.Minor.Injuries    76956 non-null  float64\n",
      " 26  Total.Uninjured         82977 non-null  float64\n",
      " 27  Weather.Condition       84397 non-null  object \n",
      " 28  Broad.phase.of.flight   61724 non-null  object \n",
      " 29  Report.Status           82505 non-null  object \n",
      " 30  Publication.Date        75118 non-null  object \n",
      "dtypes: float64(5), object(26)\n",
      "memory usage: 21.0+ MB\n"
     ]
    }
   ],
   "source": [
    "# viewing the general info of the data \n",
    "aviationdata.info()"
   ]
  },
  {
   "cell_type": "markdown",
   "id": "7ec0968c-67d1-47ad-9bd7-4f378cfece81",
   "metadata": {},
   "source": [
    "The above general infomation helps to quickly understand the data I am working on in my case:\n",
    "- The dataset contains 88,889 entries and 31 columns.\n",
    "- Reveals the type of data if its text ,numbers or floats in each column.\n",
    "- Identifies columns with missing data.\n",
    "- Reveals the current data type of data each column."
   ]
  },
  {
   "cell_type": "markdown",
   "id": "bfac138c-5c2b-4288-8596-4d5d2ac55409",
   "metadata": {
    "jp-MarkdownHeadingCollapsed": true
   },
   "source": [
    "# 2. Data Cleaning "
   ]
  },
  {
   "cell_type": "markdown",
   "id": "1652a81f-2b7c-4b91-814d-d98d40d009c7",
   "metadata": {},
   "source": [
    "Data cleaning is crucial  as it ensures our data is clean, structured, and reliable to perform accurate analysis and extract meaningful insights.\n",
    "This process will include:\n",
    "- Handling missing values\n",
    "- Dealing with duplicates\n",
    "- Correcting data types\n",
    "- standardizing the date formarts"
   ]
  },
  {
   "cell_type": "code",
   "execution_count": 535,
   "id": "a20c1637-c6e3-4909-9cf5-35b6f92fb3cc",
   "metadata": {},
   "outputs": [],
   "source": [
    "''' Creating a copy of my data so as to work on the copy instead of of original data'''\n",
    "avidatacopy = aviationdata.copy()"
   ]
  },
  {
   "cell_type": "code",
   "execution_count": 536,
   "id": "bed598bc-251e-4f66-9481-5c55ac983663",
   "metadata": {},
   "outputs": [
    {
     "data": {
      "text/html": [
       "<div>\n",
       "<style scoped>\n",
       "    .dataframe tbody tr th:only-of-type {\n",
       "        vertical-align: middle;\n",
       "    }\n",
       "\n",
       "    .dataframe tbody tr th {\n",
       "        vertical-align: top;\n",
       "    }\n",
       "\n",
       "    .dataframe thead th {\n",
       "        text-align: right;\n",
       "    }\n",
       "</style>\n",
       "<table border=\"1\" class=\"dataframe\">\n",
       "  <thead>\n",
       "    <tr style=\"text-align: right;\">\n",
       "      <th></th>\n",
       "      <th>Event.Id</th>\n",
       "      <th>Investigation.Type</th>\n",
       "      <th>Accident.Number</th>\n",
       "      <th>Event.Date</th>\n",
       "      <th>Location</th>\n",
       "      <th>Country</th>\n",
       "      <th>Latitude</th>\n",
       "      <th>Longitude</th>\n",
       "      <th>Airport.Code</th>\n",
       "      <th>Airport.Name</th>\n",
       "      <th>...</th>\n",
       "      <th>Purpose.of.flight</th>\n",
       "      <th>Air.carrier</th>\n",
       "      <th>Total.Fatal.Injuries</th>\n",
       "      <th>Total.Serious.Injuries</th>\n",
       "      <th>Total.Minor.Injuries</th>\n",
       "      <th>Total.Uninjured</th>\n",
       "      <th>Weather.Condition</th>\n",
       "      <th>Broad.phase.of.flight</th>\n",
       "      <th>Report.Status</th>\n",
       "      <th>Publication.Date</th>\n",
       "    </tr>\n",
       "  </thead>\n",
       "  <tbody>\n",
       "    <tr>\n",
       "      <th>0</th>\n",
       "      <td>20001218X45444</td>\n",
       "      <td>Accident</td>\n",
       "      <td>SEA87LA080</td>\n",
       "      <td>1948-10-24</td>\n",
       "      <td>MOOSE CREEK, ID</td>\n",
       "      <td>United States</td>\n",
       "      <td>NaN</td>\n",
       "      <td>NaN</td>\n",
       "      <td>NaN</td>\n",
       "      <td>NaN</td>\n",
       "      <td>...</td>\n",
       "      <td>Personal</td>\n",
       "      <td>NaN</td>\n",
       "      <td>2.0</td>\n",
       "      <td>0.0</td>\n",
       "      <td>0.0</td>\n",
       "      <td>0.0</td>\n",
       "      <td>UNK</td>\n",
       "      <td>Cruise</td>\n",
       "      <td>Probable Cause</td>\n",
       "      <td>NaN</td>\n",
       "    </tr>\n",
       "    <tr>\n",
       "      <th>1</th>\n",
       "      <td>20001218X45447</td>\n",
       "      <td>Accident</td>\n",
       "      <td>LAX94LA336</td>\n",
       "      <td>1962-07-19</td>\n",
       "      <td>BRIDGEPORT, CA</td>\n",
       "      <td>United States</td>\n",
       "      <td>NaN</td>\n",
       "      <td>NaN</td>\n",
       "      <td>NaN</td>\n",
       "      <td>NaN</td>\n",
       "      <td>...</td>\n",
       "      <td>Personal</td>\n",
       "      <td>NaN</td>\n",
       "      <td>4.0</td>\n",
       "      <td>0.0</td>\n",
       "      <td>0.0</td>\n",
       "      <td>0.0</td>\n",
       "      <td>UNK</td>\n",
       "      <td>Unknown</td>\n",
       "      <td>Probable Cause</td>\n",
       "      <td>19-09-1996</td>\n",
       "    </tr>\n",
       "    <tr>\n",
       "      <th>2</th>\n",
       "      <td>20061025X01555</td>\n",
       "      <td>Accident</td>\n",
       "      <td>NYC07LA005</td>\n",
       "      <td>1974-08-30</td>\n",
       "      <td>Saltville, VA</td>\n",
       "      <td>United States</td>\n",
       "      <td>36.922223</td>\n",
       "      <td>-81.878056</td>\n",
       "      <td>NaN</td>\n",
       "      <td>NaN</td>\n",
       "      <td>...</td>\n",
       "      <td>Personal</td>\n",
       "      <td>NaN</td>\n",
       "      <td>3.0</td>\n",
       "      <td>NaN</td>\n",
       "      <td>NaN</td>\n",
       "      <td>NaN</td>\n",
       "      <td>IMC</td>\n",
       "      <td>Cruise</td>\n",
       "      <td>Probable Cause</td>\n",
       "      <td>26-02-2007</td>\n",
       "    </tr>\n",
       "  </tbody>\n",
       "</table>\n",
       "<p>3 rows × 31 columns</p>\n",
       "</div>"
      ],
      "text/plain": [
       "         Event.Id Investigation.Type Accident.Number  Event.Date  \\\n",
       "0  20001218X45444           Accident      SEA87LA080  1948-10-24   \n",
       "1  20001218X45447           Accident      LAX94LA336  1962-07-19   \n",
       "2  20061025X01555           Accident      NYC07LA005  1974-08-30   \n",
       "\n",
       "          Location        Country   Latitude  Longitude Airport.Code  \\\n",
       "0  MOOSE CREEK, ID  United States        NaN        NaN          NaN   \n",
       "1   BRIDGEPORT, CA  United States        NaN        NaN          NaN   \n",
       "2    Saltville, VA  United States  36.922223 -81.878056          NaN   \n",
       "\n",
       "  Airport.Name  ... Purpose.of.flight Air.carrier Total.Fatal.Injuries  \\\n",
       "0          NaN  ...          Personal         NaN                  2.0   \n",
       "1          NaN  ...          Personal         NaN                  4.0   \n",
       "2          NaN  ...          Personal         NaN                  3.0   \n",
       "\n",
       "  Total.Serious.Injuries Total.Minor.Injuries Total.Uninjured  \\\n",
       "0                    0.0                  0.0             0.0   \n",
       "1                    0.0                  0.0             0.0   \n",
       "2                    NaN                  NaN             NaN   \n",
       "\n",
       "  Weather.Condition  Broad.phase.of.flight   Report.Status Publication.Date  \n",
       "0               UNK                 Cruise  Probable Cause              NaN  \n",
       "1               UNK                Unknown  Probable Cause       19-09-1996  \n",
       "2               IMC                 Cruise  Probable Cause       26-02-2007  \n",
       "\n",
       "[3 rows x 31 columns]"
      ]
     },
     "execution_count": 536,
     "metadata": {},
     "output_type": "execute_result"
    }
   ],
   "source": [
    "avidatacopy.head(n=3)"
   ]
  },
  {
   "cell_type": "markdown",
   "id": "c456f74c-fe47-49ee-baff-562355dd1835",
   "metadata": {
    "jp-MarkdownHeadingCollapsed": true
   },
   "source": [
    "## i) Handling missing values "
   ]
  },
  {
   "cell_type": "code",
   "execution_count": 537,
   "id": "7e1c27b6-5b47-468a-9639-50cef36464db",
   "metadata": {},
   "outputs": [
    {
     "data": {
      "text/plain": [
       "Location                     52\n",
       "Country                     226\n",
       "Latitude                  54507\n",
       "Longitude                 54516\n",
       "Airport.Code              38757\n",
       "Airport.Name              36185\n",
       "Injury.Severity            1000\n",
       "Aircraft.damage            3194\n",
       "Aircraft.Category         56602\n",
       "Registration.Number        1382\n",
       "Make                         63\n",
       "Model                        92\n",
       "Amateur.Built               102\n",
       "Number.of.Engines          6084\n",
       "Engine.Type                7096\n",
       "FAR.Description           56866\n",
       "Schedule                  76307\n",
       "Purpose.of.flight          6192\n",
       "Air.carrier               72241\n",
       "Total.Fatal.Injuries      11401\n",
       "Total.Serious.Injuries    12510\n",
       "Total.Minor.Injuries      11933\n",
       "Total.Uninjured            5912\n",
       "Weather.Condition          4492\n",
       "Broad.phase.of.flight     27165\n",
       "Report.Status              6384\n",
       "Publication.Date          13771\n",
       "dtype: int64"
      ]
     },
     "execution_count": 537,
     "metadata": {},
     "output_type": "execute_result"
    }
   ],
   "source": [
    "# Checking for all the columns with missing values and the count of values missing\n",
    "avidatacopy.isnull().sum()[avidatacopy.isnull().sum()>0]"
   ]
  },
  {
   "cell_type": "markdown",
   "id": "92e547f4-0bca-4d41-b9ac-09818933baa4",
   "metadata": {},
   "source": [
    "- Replacing the Location missing values with \"Unknown\" since we do not know the location names"
   ]
  },
  {
   "cell_type": "code",
   "execution_count": 538,
   "id": "33f5a0f3-3ba8-4d26-a152-00d0724d34c5",
   "metadata": {},
   "outputs": [],
   "source": [
    "# Handling missing values in the Location column \n",
    "avidatacopy[\"Location\"]= avidatacopy[\"Location\"].fillna(\"Unknown\")"
   ]
  },
  {
   "cell_type": "code",
   "execution_count": 539,
   "id": "fb02d736-704e-4db0-a202-2503dd62627c",
   "metadata": {},
   "outputs": [
    {
     "data": {
      "text/plain": [
       "0"
      ]
     },
     "execution_count": 539,
     "metadata": {},
     "output_type": "execute_result"
    }
   ],
   "source": [
    "avidatacopy[\"Location\"].isnull().sum()"
   ]
  },
  {
   "cell_type": "markdown",
   "id": "b9347030-c34c-4466-938e-72871d925059",
   "metadata": {},
   "source": [
    "- Filling the missing country names with the most frequent country occuring "
   ]
  },
  {
   "cell_type": "code",
   "execution_count": 540,
   "id": "c4935181-e8f3-43a3-a022-cdcc3605d6a4",
   "metadata": {},
   "outputs": [
    {
     "data": {
      "text/plain": [
       "Country\n",
       "United States                       82248\n",
       "Brazil                                374\n",
       "Canada                                359\n",
       "Mexico                                358\n",
       "United Kingdom                        344\n",
       "                                    ...  \n",
       "Seychelles                              1\n",
       "Palau                                   1\n",
       "Libya                                   1\n",
       "Saint Vincent and the Grenadines        1\n",
       "Turks and Caicos Islands                1\n",
       "Name: count, Length: 219, dtype: int64"
      ]
     },
     "execution_count": 540,
     "metadata": {},
     "output_type": "execute_result"
    }
   ],
   "source": [
    "#The most frequent country is United States\n",
    "avidatacopy[\"Country\"].value_counts()"
   ]
  },
  {
   "cell_type": "code",
   "execution_count": 541,
   "id": "c8aa26ee-da53-4797-885c-9739be283a30",
   "metadata": {},
   "outputs": [
    {
     "data": {
      "text/plain": [
       "'United States'"
      ]
     },
     "execution_count": 541,
     "metadata": {},
     "output_type": "execute_result"
    }
   ],
   "source": [
    "#filling the missing values with the mode()\n",
    "frequent_country = avidatacopy[\"Country\"].mode().iloc[0]\n",
    "frequent_country"
   ]
  },
  {
   "cell_type": "code",
   "execution_count": 542,
   "id": "0e382b91-323a-4d5e-bb80-5c94c9d74005",
   "metadata": {},
   "outputs": [],
   "source": [
    "# replacing the missing values withe mode()\n",
    "avidatacopy[\"Country\"] = avidatacopy[\"Country\"].fillna(frequent_country)"
   ]
  },
  {
   "cell_type": "code",
   "execution_count": 543,
   "id": "6215453d-b2ec-4469-9537-fa84a7a12afe",
   "metadata": {},
   "outputs": [
    {
     "data": {
      "text/plain": [
       "0"
      ]
     },
     "execution_count": 543,
     "metadata": {},
     "output_type": "execute_result"
    }
   ],
   "source": [
    "avidatacopy[\"Country\"].isnull().sum()"
   ]
  },
  {
   "cell_type": "markdown",
   "id": "2e5702cc-663a-48e2-be58-5ba2c449dc02",
   "metadata": {},
   "source": [
    "- Dropping both the Latitude and longitude columns since they have alot of missing values \n",
    "- In my analysis I will use the Locations and country instead of the latitude and longitude"
   ]
  },
  {
   "cell_type": "code",
   "execution_count": 544,
   "id": "d1fc1b74-bea6-40e8-a604-8882c2b02f5b",
   "metadata": {},
   "outputs": [],
   "source": [
    "#Dropping both the latitude and longitude columns\n",
    "avidatacopy.drop(columns=['Latitude', 'Longitude'], inplace=True)"
   ]
  },
  {
   "cell_type": "markdown",
   "id": "ff021076-aa89-46ab-b172-6bf677692512",
   "metadata": {},
   "source": [
    "- Dropping the Airport.Code column for it has alot of missing values"
   ]
  },
  {
   "cell_type": "code",
   "execution_count": 545,
   "id": "4a1b552e-d86f-46bc-a190-0807befd8d1a",
   "metadata": {},
   "outputs": [
    {
     "data": {
      "text/plain": [
       "Airport.Code\n",
       "NONE    1488\n",
       "PVT      485\n",
       "APA      160\n",
       "ORD      149\n",
       "MRI      137\n",
       "        ... \n",
       "7NJ9       1\n",
       "CWV        1\n",
       "5QA        1\n",
       "M55        1\n",
       "EIKH       1\n",
       "Name: count, Length: 10374, dtype: int64"
      ]
     },
     "execution_count": 545,
     "metadata": {},
     "output_type": "execute_result"
    }
   ],
   "source": [
    "avidatacopy[\"Airport.Code\"].value_counts()"
   ]
  },
  {
   "cell_type": "code",
   "execution_count": 546,
   "id": "756a845e-50e8-4af3-aec8-195e28796c9f",
   "metadata": {
    "scrolled": true
   },
   "outputs": [],
   "source": [
    "avidatacopy = avidatacopy.drop(columns = [\"Airport.Code\"])"
   ]
  },
  {
   "cell_type": "code",
   "execution_count": 547,
   "id": "804030b9-cfe1-4d9f-ab6c-281fce84e804",
   "metadata": {},
   "outputs": [
    {
     "data": {
      "text/plain": [
       "Index(['Event.Id', 'Investigation.Type', 'Accident.Number', 'Event.Date',\n",
       "       'Location', 'Country', 'Airport.Name', 'Injury.Severity',\n",
       "       'Aircraft.damage', 'Aircraft.Category', 'Registration.Number', 'Make',\n",
       "       'Model', 'Amateur.Built', 'Number.of.Engines', 'Engine.Type',\n",
       "       'FAR.Description', 'Schedule', 'Purpose.of.flight', 'Air.carrier',\n",
       "       'Total.Fatal.Injuries', 'Total.Serious.Injuries',\n",
       "       'Total.Minor.Injuries', 'Total.Uninjured', 'Weather.Condition',\n",
       "       'Broad.phase.of.flight', 'Report.Status', 'Publication.Date'],\n",
       "      dtype='object')"
      ]
     },
     "execution_count": 547,
     "metadata": {},
     "output_type": "execute_result"
    }
   ],
   "source": [
    "# Checking the remaining columns after dropping some of them\n",
    "avidatacopy.columns"
   ]
  },
  {
   "cell_type": "markdown",
   "id": "ee8cc9f0-14f3-46fd-b7be-2844158daac1",
   "metadata": {},
   "source": [
    "- filling the Airport.Name missing values with \"Unknown\" since we were not given the Airport.Names"
   ]
  },
  {
   "cell_type": "code",
   "execution_count": 548,
   "id": "39ae4201-cf0a-489d-88cc-64b840ead613",
   "metadata": {},
   "outputs": [],
   "source": [
    "avidatacopy[\"Airport.Name\"] = avidatacopy[\"Airport.Name\"].fillna(\"Unknown\")"
   ]
  },
  {
   "cell_type": "code",
   "execution_count": 549,
   "id": "96ef907d-4261-495b-8062-f1ba892f914a",
   "metadata": {
    "scrolled": true
   },
   "outputs": [
    {
     "name": "stdout",
     "output_type": "stream",
     "text": [
      "<class 'pandas.core.frame.DataFrame'>\n",
      "RangeIndex: 88889 entries, 0 to 88888\n",
      "Data columns (total 28 columns):\n",
      " #   Column                  Non-Null Count  Dtype  \n",
      "---  ------                  --------------  -----  \n",
      " 0   Event.Id                88889 non-null  object \n",
      " 1   Investigation.Type      88889 non-null  object \n",
      " 2   Accident.Number         88889 non-null  object \n",
      " 3   Event.Date              88889 non-null  object \n",
      " 4   Location                88889 non-null  object \n",
      " 5   Country                 88889 non-null  object \n",
      " 6   Airport.Name            88889 non-null  object \n",
      " 7   Injury.Severity         87889 non-null  object \n",
      " 8   Aircraft.damage         85695 non-null  object \n",
      " 9   Aircraft.Category       32287 non-null  object \n",
      " 10  Registration.Number     87507 non-null  object \n",
      " 11  Make                    88826 non-null  object \n",
      " 12  Model                   88797 non-null  object \n",
      " 13  Amateur.Built           88787 non-null  object \n",
      " 14  Number.of.Engines       82805 non-null  float64\n",
      " 15  Engine.Type             81793 non-null  object \n",
      " 16  FAR.Description         32023 non-null  object \n",
      " 17  Schedule                12582 non-null  object \n",
      " 18  Purpose.of.flight       82697 non-null  object \n",
      " 19  Air.carrier             16648 non-null  object \n",
      " 20  Total.Fatal.Injuries    77488 non-null  float64\n",
      " 21  Total.Serious.Injuries  76379 non-null  float64\n",
      " 22  Total.Minor.Injuries    76956 non-null  float64\n",
      " 23  Total.Uninjured         82977 non-null  float64\n",
      " 24  Weather.Condition       84397 non-null  object \n",
      " 25  Broad.phase.of.flight   61724 non-null  object \n",
      " 26  Report.Status           82505 non-null  object \n",
      " 27  Publication.Date        75118 non-null  object \n",
      "dtypes: float64(5), object(23)\n",
      "memory usage: 19.0+ MB\n"
     ]
    }
   ],
   "source": [
    "# Confirming the data information so far after the changes.\n",
    "avidatacopy.info()"
   ]
  },
  {
   "cell_type": "markdown",
   "id": "64757e10-d496-4c7c-a6ec-f4377eae5dc7",
   "metadata": {},
   "source": [
    "Dropping the numbers in brackets after Fatal to categorize all the fatal as \"Fatal\" and filling the missing values with the mode()."
   ]
  },
  {
   "cell_type": "code",
   "execution_count": 550,
   "id": "d226ffe6-c851-454e-a904-ac7cdb209231",
   "metadata": {},
   "outputs": [
    {
     "data": {
      "text/plain": [
       "Injury.Severity\n",
       "Non-Fatal     67357\n",
       "Fatal(1)       6167\n",
       "Fatal          5262\n",
       "Fatal(2)       3711\n",
       "Incident       2219\n",
       "              ...  \n",
       "Fatal(270)        1\n",
       "Fatal(60)         1\n",
       "Fatal(43)         1\n",
       "Fatal(143)        1\n",
       "Fatal(230)        1\n",
       "Name: count, Length: 109, dtype: int64"
      ]
     },
     "execution_count": 550,
     "metadata": {},
     "output_type": "execute_result"
    }
   ],
   "source": [
    "#viewing the column to understand how it looks like\n",
    "avidatacopy[\"Injury.Severity\"].value_counts()"
   ]
  },
  {
   "cell_type": "code",
   "execution_count": 551,
   "id": "1b9c138a-8e5b-4c8f-b8c2-89871c464a07",
   "metadata": {},
   "outputs": [],
   "source": [
    "# Dropping the numbers in brackets after the Fatal and accounting for different values in the column including NaN\n",
    "def cleaned_injury_severity(data):\n",
    "    cleaned_data = []\n",
    "    for word in data:\n",
    "        if isinstance(word, float):\n",
    "            cleaned_data.append(None)\n",
    "        elif word == \"Fatal\":\n",
    "            cleaned_data.append(word)\n",
    "        elif \"Fatal\" in word:\n",
    "            cleaned_data.append(word.split(\"(\")[0])\n",
    "        else:\n",
    "            cleaned_data.append(word)\n",
    "    return cleaned_data\n",
    "\n",
    "avidatacopy[\"Injury.Severity\"] = cleaned_injury_severity(avidatacopy[\"Injury.Severity\"])"
   ]
  },
  {
   "cell_type": "code",
   "execution_count": 552,
   "id": "0921e582-b341-49a6-a75a-47b85b58e699",
   "metadata": {},
   "outputs": [
    {
     "data": {
      "text/plain": [
       "Injury.Severity\n",
       "Non-Fatal      67357\n",
       "Fatal          17826\n",
       "Incident        2219\n",
       "Minor            218\n",
       "Serious          173\n",
       "Unavailable       96\n",
       "Name: count, dtype: int64"
      ]
     },
     "execution_count": 552,
     "metadata": {},
     "output_type": "execute_result"
    }
   ],
   "source": [
    "#Confirming the code has changed and worked\n",
    "avidatacopy[\"Injury.Severity\"].value_counts()"
   ]
  },
  {
   "cell_type": "code",
   "execution_count": 553,
   "id": "57621d7c-4cd5-4a7e-b2ec-0fe557e5bc58",
   "metadata": {},
   "outputs": [
    {
     "data": {
      "text/plain": [
       "1000"
      ]
     },
     "execution_count": 553,
     "metadata": {},
     "output_type": "execute_result"
    }
   ],
   "source": [
    "# Checking the missing values \n",
    "avidatacopy[\"Injury.Severity\"].isnull().sum()"
   ]
  },
  {
   "cell_type": "markdown",
   "id": "86381dbc-5503-4141-b0dd-85a43a0fb59b",
   "metadata": {},
   "source": [
    "- We have 1000 missing values from the avidatacopy[\"Injury.Severity\"]. \n",
    "- To make sure the values are uniform I will fill the missing values with \"Unavailable\" since we were not given the severity of the accident.\n",
    "- Incident is not clear whether injury occured and was not recorded or there was no injury *It required further investigation*\n",
    "- \"Incidents\" in the column is meant to represent injury severity, but it suggests that either the data entry is inconsistent or that the information is being misclassified \n",
    "- Non-Fatal does not indicate whether the injuries were serious or minor ,it only conculdes that the accident did not lead to death.\n",
    "- To investigate this column I will use the Total.Fatal.Injuries ,Total.Serious.Injuries ,Total.Minor.Injuries ,Total.Uninjured  columns to determine the Injury .Severity.\n",
    "- I will create another column to clasiffy the Severity as [Fatal,Serious injuries,Minor injuries,Uninjured,Unknown] This will give a clear view of the severity while clasiffying even the Unknown ones."
   ]
  },
  {
   "cell_type": "markdown",
   "id": "1bbe1798-e57d-43a6-bae0-f1985260b908",
   "metadata": {},
   "source": [
    "To achieve the above I first have to ensure the columns [\"Total.Fatal.Injuries\",\"Total.Serious.Injuries\",\"Total.Minor.Injuries\",\"Total.Uninjured\"]\n",
    "Do not have missing values and if they have I will use the placeholder of \"Unknow\" to avoiding assuming the counts "
   ]
  },
  {
   "cell_type": "code",
   "execution_count": 554,
   "id": "5af2bce1-d0e9-4294-a91a-923e46af1c0a",
   "metadata": {},
   "outputs": [
    {
     "data": {
      "text/plain": [
       "Total.Fatal.Injuries      11401\n",
       "Total.Serious.Injuries    12510\n",
       "Total.Minor.Injuries      11933\n",
       "Total.Uninjured            5912\n",
       "dtype: int64"
      ]
     },
     "execution_count": 554,
     "metadata": {},
     "output_type": "execute_result"
    }
   ],
   "source": [
    "# Checking for missing values in the column Total.Fatal.Injuries\n",
    "injury_cols = ['Total.Fatal.Injuries', 'Total.Serious.Injuries', 'Total.Minor.Injuries', 'Total.Uninjured']\n",
    "missing_value_sum = avidatacopy[injury_cols].isnull().sum()\n",
    "missing_value_sum"
   ]
  },
  {
   "cell_type": "markdown",
   "id": "1bf460aa-30be-4989-9282-9da2c250323a",
   "metadata": {},
   "source": [
    "The above code prints the sum of all the missing values in the columns I am working with.To ensure I get the expected results the missing values will be filled with \"Unknown\" to avoid using 0 and assuming"
   ]
  },
  {
   "cell_type": "code",
   "execution_count": 555,
   "id": "7b7a61fe-3418-4a6a-b245-8a1dcfc686f1",
   "metadata": {},
   "outputs": [],
   "source": [
    "# Filling the missing values of the columns with \"unknown\"\n",
    "filling_severity = avidatacopy[[\"Total.Fatal.Injuries\",\"Total.Serious.Injuries\",\"Total.Minor.Injuries\",\"Total.Uninjured\"]].fillna('Unknown')\n",
    "avidatacopy[[\"Total.Fatal.Injuries\",\"Total.Serious.Injuries\",\"Total.Minor.Injuries\",\"Total.Uninjured\"]] = filling_severity"
   ]
  },
  {
   "cell_type": "markdown",
   "id": "83428031-ce89-43a4-8c48-05e41e30ad0b",
   "metadata": {},
   "source": [
    "- After filling the missing values with \"Unknown\" ,I will now create a new column which will classify the severity according to the above columns\n",
    "- To achieve that and know where each accident fall ,I will take the column with the maximum number to define to classification.If all the columns are Unknown then the Accident falls under Unknown."
   ]
  },
  {
   "cell_type": "code",
   "execution_count": 556,
   "id": "380d0685-c637-4879-afdb-a7791248789d",
   "metadata": {},
   "outputs": [],
   "source": [
    "# A function to loop through the columns and classify them \n",
    "def Classification(row):\n",
    "    injury_cols = ['Total.Fatal.Injuries', 'Total.Serious.Injuries', 'Total.Minor.Injuries', 'Total.Uninjured']\n",
    "    Severity_labels = [\"Fatal\", \"Serious injuries\", \"Minor injuries\", \"Uninjured\", \"Unknown\"]\n",
    "    if all(row[col] == 'Unknown' for col in injury_cols):\n",
    "        return \"Unknown\"\n",
    "    max_value = -1\n",
    "    max_col = None\n",
    "    for col in injury_cols:\n",
    "        if row[col] != 'Unknown' and float(row[col]) > max_value:\n",
    "            max_value = float(row[col])\n",
    "            max_col = col\n",
    "    \n",
    "    return Severity_labels[injury_cols.index(max_col)] if max_col else \"Unknown\"\n",
    "avidatacopy[\"Severity\"] = avidatacopy.apply(Classification, axis=1)"
   ]
  },
  {
   "cell_type": "code",
   "execution_count": 557,
   "id": "ce643cab-b793-4680-8f9f-9b0389b269e1",
   "metadata": {},
   "outputs": [
    {
     "data": {
      "text/html": [
       "<div>\n",
       "<style scoped>\n",
       "    .dataframe tbody tr th:only-of-type {\n",
       "        vertical-align: middle;\n",
       "    }\n",
       "\n",
       "    .dataframe tbody tr th {\n",
       "        vertical-align: top;\n",
       "    }\n",
       "\n",
       "    .dataframe thead th {\n",
       "        text-align: right;\n",
       "    }\n",
       "</style>\n",
       "<table border=\"1\" class=\"dataframe\">\n",
       "  <thead>\n",
       "    <tr style=\"text-align: right;\">\n",
       "      <th></th>\n",
       "      <th>Event.Id</th>\n",
       "      <th>Investigation.Type</th>\n",
       "      <th>Accident.Number</th>\n",
       "      <th>Event.Date</th>\n",
       "      <th>Location</th>\n",
       "      <th>Country</th>\n",
       "      <th>Airport.Name</th>\n",
       "      <th>Injury.Severity</th>\n",
       "      <th>Aircraft.damage</th>\n",
       "      <th>Aircraft.Category</th>\n",
       "      <th>...</th>\n",
       "      <th>Air.carrier</th>\n",
       "      <th>Total.Fatal.Injuries</th>\n",
       "      <th>Total.Serious.Injuries</th>\n",
       "      <th>Total.Minor.Injuries</th>\n",
       "      <th>Total.Uninjured</th>\n",
       "      <th>Weather.Condition</th>\n",
       "      <th>Broad.phase.of.flight</th>\n",
       "      <th>Report.Status</th>\n",
       "      <th>Publication.Date</th>\n",
       "      <th>Severity</th>\n",
       "    </tr>\n",
       "  </thead>\n",
       "  <tbody>\n",
       "    <tr>\n",
       "      <th>0</th>\n",
       "      <td>20001218X45444</td>\n",
       "      <td>Accident</td>\n",
       "      <td>SEA87LA080</td>\n",
       "      <td>1948-10-24</td>\n",
       "      <td>MOOSE CREEK, ID</td>\n",
       "      <td>United States</td>\n",
       "      <td>Unknown</td>\n",
       "      <td>Fatal</td>\n",
       "      <td>Destroyed</td>\n",
       "      <td>NaN</td>\n",
       "      <td>...</td>\n",
       "      <td>NaN</td>\n",
       "      <td>2.0</td>\n",
       "      <td>0.0</td>\n",
       "      <td>0.0</td>\n",
       "      <td>0.0</td>\n",
       "      <td>UNK</td>\n",
       "      <td>Cruise</td>\n",
       "      <td>Probable Cause</td>\n",
       "      <td>NaN</td>\n",
       "      <td>Fatal</td>\n",
       "    </tr>\n",
       "    <tr>\n",
       "      <th>1</th>\n",
       "      <td>20001218X45447</td>\n",
       "      <td>Accident</td>\n",
       "      <td>LAX94LA336</td>\n",
       "      <td>1962-07-19</td>\n",
       "      <td>BRIDGEPORT, CA</td>\n",
       "      <td>United States</td>\n",
       "      <td>Unknown</td>\n",
       "      <td>Fatal</td>\n",
       "      <td>Destroyed</td>\n",
       "      <td>NaN</td>\n",
       "      <td>...</td>\n",
       "      <td>NaN</td>\n",
       "      <td>4.0</td>\n",
       "      <td>0.0</td>\n",
       "      <td>0.0</td>\n",
       "      <td>0.0</td>\n",
       "      <td>UNK</td>\n",
       "      <td>Unknown</td>\n",
       "      <td>Probable Cause</td>\n",
       "      <td>19-09-1996</td>\n",
       "      <td>Fatal</td>\n",
       "    </tr>\n",
       "    <tr>\n",
       "      <th>2</th>\n",
       "      <td>20061025X01555</td>\n",
       "      <td>Accident</td>\n",
       "      <td>NYC07LA005</td>\n",
       "      <td>1974-08-30</td>\n",
       "      <td>Saltville, VA</td>\n",
       "      <td>United States</td>\n",
       "      <td>Unknown</td>\n",
       "      <td>Fatal</td>\n",
       "      <td>Destroyed</td>\n",
       "      <td>NaN</td>\n",
       "      <td>...</td>\n",
       "      <td>NaN</td>\n",
       "      <td>3.0</td>\n",
       "      <td>Unknown</td>\n",
       "      <td>Unknown</td>\n",
       "      <td>Unknown</td>\n",
       "      <td>IMC</td>\n",
       "      <td>Cruise</td>\n",
       "      <td>Probable Cause</td>\n",
       "      <td>26-02-2007</td>\n",
       "      <td>Fatal</td>\n",
       "    </tr>\n",
       "    <tr>\n",
       "      <th>3</th>\n",
       "      <td>20001218X45448</td>\n",
       "      <td>Accident</td>\n",
       "      <td>LAX96LA321</td>\n",
       "      <td>1977-06-19</td>\n",
       "      <td>EUREKA, CA</td>\n",
       "      <td>United States</td>\n",
       "      <td>Unknown</td>\n",
       "      <td>Fatal</td>\n",
       "      <td>Destroyed</td>\n",
       "      <td>NaN</td>\n",
       "      <td>...</td>\n",
       "      <td>NaN</td>\n",
       "      <td>2.0</td>\n",
       "      <td>0.0</td>\n",
       "      <td>0.0</td>\n",
       "      <td>0.0</td>\n",
       "      <td>IMC</td>\n",
       "      <td>Cruise</td>\n",
       "      <td>Probable Cause</td>\n",
       "      <td>12-09-2000</td>\n",
       "      <td>Fatal</td>\n",
       "    </tr>\n",
       "    <tr>\n",
       "      <th>4</th>\n",
       "      <td>20041105X01764</td>\n",
       "      <td>Accident</td>\n",
       "      <td>CHI79FA064</td>\n",
       "      <td>1979-08-02</td>\n",
       "      <td>Canton, OH</td>\n",
       "      <td>United States</td>\n",
       "      <td>Unknown</td>\n",
       "      <td>Fatal</td>\n",
       "      <td>Destroyed</td>\n",
       "      <td>NaN</td>\n",
       "      <td>...</td>\n",
       "      <td>NaN</td>\n",
       "      <td>1.0</td>\n",
       "      <td>2.0</td>\n",
       "      <td>Unknown</td>\n",
       "      <td>0.0</td>\n",
       "      <td>VMC</td>\n",
       "      <td>Approach</td>\n",
       "      <td>Probable Cause</td>\n",
       "      <td>16-04-1980</td>\n",
       "      <td>Serious injuries</td>\n",
       "    </tr>\n",
       "  </tbody>\n",
       "</table>\n",
       "<p>5 rows × 29 columns</p>\n",
       "</div>"
      ],
      "text/plain": [
       "         Event.Id Investigation.Type Accident.Number  Event.Date  \\\n",
       "0  20001218X45444           Accident      SEA87LA080  1948-10-24   \n",
       "1  20001218X45447           Accident      LAX94LA336  1962-07-19   \n",
       "2  20061025X01555           Accident      NYC07LA005  1974-08-30   \n",
       "3  20001218X45448           Accident      LAX96LA321  1977-06-19   \n",
       "4  20041105X01764           Accident      CHI79FA064  1979-08-02   \n",
       "\n",
       "          Location        Country Airport.Name Injury.Severity  \\\n",
       "0  MOOSE CREEK, ID  United States      Unknown           Fatal   \n",
       "1   BRIDGEPORT, CA  United States      Unknown           Fatal   \n",
       "2    Saltville, VA  United States      Unknown           Fatal   \n",
       "3       EUREKA, CA  United States      Unknown           Fatal   \n",
       "4       Canton, OH  United States      Unknown           Fatal   \n",
       "\n",
       "  Aircraft.damage Aircraft.Category  ... Air.carrier Total.Fatal.Injuries  \\\n",
       "0       Destroyed               NaN  ...         NaN                  2.0   \n",
       "1       Destroyed               NaN  ...         NaN                  4.0   \n",
       "2       Destroyed               NaN  ...         NaN                  3.0   \n",
       "3       Destroyed               NaN  ...         NaN                  2.0   \n",
       "4       Destroyed               NaN  ...         NaN                  1.0   \n",
       "\n",
       "  Total.Serious.Injuries Total.Minor.Injuries  Total.Uninjured  \\\n",
       "0                    0.0                  0.0              0.0   \n",
       "1                    0.0                  0.0              0.0   \n",
       "2                Unknown              Unknown          Unknown   \n",
       "3                    0.0                  0.0              0.0   \n",
       "4                    2.0              Unknown              0.0   \n",
       "\n",
       "  Weather.Condition Broad.phase.of.flight   Report.Status Publication.Date  \\\n",
       "0               UNK                Cruise  Probable Cause              NaN   \n",
       "1               UNK               Unknown  Probable Cause       19-09-1996   \n",
       "2               IMC                Cruise  Probable Cause       26-02-2007   \n",
       "3               IMC                Cruise  Probable Cause       12-09-2000   \n",
       "4               VMC              Approach  Probable Cause       16-04-1980   \n",
       "\n",
       "           Severity  \n",
       "0             Fatal  \n",
       "1             Fatal  \n",
       "2             Fatal  \n",
       "3             Fatal  \n",
       "4  Serious injuries  \n",
       "\n",
       "[5 rows x 29 columns]"
      ]
     },
     "execution_count": 557,
     "metadata": {},
     "output_type": "execute_result"
    }
   ],
   "source": [
    "#Confirming the column was added and classification was done as expected\n",
    "avidatacopy.head()"
   ]
  },
  {
   "cell_type": "code",
   "execution_count": 558,
   "id": "4e57e780-4714-4a45-9545-e401d0da1d74",
   "metadata": {},
   "outputs": [
    {
     "data": {
      "text/plain": [
       "Severity\n",
       "Uninjured           49793\n",
       "Fatal               18048\n",
       "Minor injuries      11042\n",
       "Serious injuries     9783\n",
       "Unknown               223\n",
       "Name: count, dtype: int64"
      ]
     },
     "execution_count": 558,
     "metadata": {},
     "output_type": "execute_result"
    }
   ],
   "source": [
    "#Checking the number of occurrencies of the new column values\n",
    "avidatacopy[\"Severity\"].value_counts()"
   ]
  },
  {
   "cell_type": "markdown",
   "id": "3a81b589-a4e3-487a-9cd5-f5855320acf8",
   "metadata": {},
   "source": [
    "- Since I have the Severity column I will drop the Initially Injury.Severity column since it had inconsistent values.\n",
    "- In my analysis I will be using the Severity column "
   ]
  },
  {
   "cell_type": "code",
   "execution_count": 559,
   "id": "7c1d46e7-897f-4c65-9be0-0bd39a4df2cd",
   "metadata": {},
   "outputs": [],
   "source": [
    "avidatacopy.drop(\"Injury.Severity\",axis = 1,inplace = True)"
   ]
  },
  {
   "cell_type": "code",
   "execution_count": 560,
   "id": "ce772146-3ac7-42e0-91e4-8764de3089cd",
   "metadata": {
    "scrolled": true
   },
   "outputs": [
    {
     "name": "stdout",
     "output_type": "stream",
     "text": [
      "<class 'pandas.core.frame.DataFrame'>\n",
      "RangeIndex: 88889 entries, 0 to 88888\n",
      "Data columns (total 28 columns):\n",
      " #   Column                  Non-Null Count  Dtype  \n",
      "---  ------                  --------------  -----  \n",
      " 0   Event.Id                88889 non-null  object \n",
      " 1   Investigation.Type      88889 non-null  object \n",
      " 2   Accident.Number         88889 non-null  object \n",
      " 3   Event.Date              88889 non-null  object \n",
      " 4   Location                88889 non-null  object \n",
      " 5   Country                 88889 non-null  object \n",
      " 6   Airport.Name            88889 non-null  object \n",
      " 7   Aircraft.damage         85695 non-null  object \n",
      " 8   Aircraft.Category       32287 non-null  object \n",
      " 9   Registration.Number     87507 non-null  object \n",
      " 10  Make                    88826 non-null  object \n",
      " 11  Model                   88797 non-null  object \n",
      " 12  Amateur.Built           88787 non-null  object \n",
      " 13  Number.of.Engines       82805 non-null  float64\n",
      " 14  Engine.Type             81793 non-null  object \n",
      " 15  FAR.Description         32023 non-null  object \n",
      " 16  Schedule                12582 non-null  object \n",
      " 17  Purpose.of.flight       82697 non-null  object \n",
      " 18  Air.carrier             16648 non-null  object \n",
      " 19  Total.Fatal.Injuries    88889 non-null  object \n",
      " 20  Total.Serious.Injuries  88889 non-null  object \n",
      " 21  Total.Minor.Injuries    88889 non-null  object \n",
      " 22  Total.Uninjured         88889 non-null  object \n",
      " 23  Weather.Condition       84397 non-null  object \n",
      " 24  Broad.phase.of.flight   61724 non-null  object \n",
      " 25  Report.Status           82505 non-null  object \n",
      " 26  Publication.Date        75118 non-null  object \n",
      " 27  Severity                88889 non-null  object \n",
      "dtypes: float64(1), object(27)\n",
      "memory usage: 19.0+ MB\n"
     ]
    }
   ],
   "source": [
    "#Confirming the column is dropped\n",
    "avidatacopy.info()"
   ]
  },
  {
   "cell_type": "markdown",
   "id": "22f52076-b7e9-4dcf-b25d-b59ad0606783",
   "metadata": {},
   "source": [
    "Using \"Unknown\" to replace the missing values  in the Aircraft.damage column "
   ]
  },
  {
   "cell_type": "code",
   "execution_count": 561,
   "id": "156e0af1-7783-4e82-9d1a-79e63b6766c3",
   "metadata": {},
   "outputs": [
    {
     "data": {
      "text/plain": [
       "Aircraft.damage\n",
       "Substantial    64148\n",
       "Destroyed      18623\n",
       "Minor           2805\n",
       "Unknown          119\n",
       "Name: count, dtype: int64"
      ]
     },
     "execution_count": 561,
     "metadata": {},
     "output_type": "execute_result"
    }
   ],
   "source": [
    "#checking the already available values\n",
    "avidatacopy[\"Aircraft.damage\"].value_counts()"
   ]
  },
  {
   "cell_type": "code",
   "execution_count": 562,
   "id": "75acb0ea-cca0-405c-8915-a488626fd481",
   "metadata": {},
   "outputs": [],
   "source": [
    "avidatacopy.loc[:, \"Aircraft.damage\"] = avidatacopy[\"Aircraft.damage\"].fillna(\"Unknown\")"
   ]
  },
  {
   "cell_type": "code",
   "execution_count": 563,
   "id": "8027f0d2-9d0b-4bdc-81aa-43aea544ee51",
   "metadata": {},
   "outputs": [
    {
     "data": {
      "text/plain": [
       "0"
      ]
     },
     "execution_count": 563,
     "metadata": {},
     "output_type": "execute_result"
    }
   ],
   "source": [
    "avidatacopy[\"Aircraft.damage\"].isnull().sum()"
   ]
  },
  {
   "cell_type": "markdown",
   "id": "98ce28a1-8d50-434d-8ec1-fb8d54c29e0a",
   "metadata": {},
   "source": [
    "For the ;\n",
    "- Aircraft.Category\n",
    "- Registration\n",
    "- Engine.Type\n",
    "- Report.Status\n",
    "- Broad.phase.of.flight  I will Use \"Unknown\" to replace the missing values  in the column "
   ]
  },
  {
   "cell_type": "code",
   "execution_count": 564,
   "id": "13bf6fe3-2ecc-410d-939e-3d35244805cd",
   "metadata": {},
   "outputs": [
    {
     "data": {
      "text/plain": [
       "Aircraft.Category\n",
       "Airplane             27617\n",
       "Helicopter            3440\n",
       "Glider                 508\n",
       "Balloon                231\n",
       "Gyrocraft              173\n",
       "Weight-Shift           161\n",
       "Powered Parachute       91\n",
       "Ultralight              30\n",
       "Unknown                 14\n",
       "WSFT                     9\n",
       "Powered-Lift             5\n",
       "Blimp                    4\n",
       "UNK                      2\n",
       "Rocket                   1\n",
       "ULTR                     1\n",
       "Name: count, dtype: int64"
      ]
     },
     "execution_count": 564,
     "metadata": {},
     "output_type": "execute_result"
    }
   ],
   "source": [
    "# Getting a view of the available values\n",
    "avidatacopy[\"Aircraft.Category\"].value_counts()"
   ]
  },
  {
   "cell_type": "code",
   "execution_count": 565,
   "id": "ac36767a-9638-4f45-a762-48aa93bac8c6",
   "metadata": {},
   "outputs": [],
   "source": [
    "avidatacopy.loc[:, \"Aircraft.Category\"] = avidatacopy[\"Aircraft.Category\"].fillna(\"Unknown\")"
   ]
  },
  {
   "cell_type": "code",
   "execution_count": 566,
   "id": "5548a5ec-e7e9-48e5-b491-22eab54fbae2",
   "metadata": {},
   "outputs": [
    {
     "data": {
      "text/plain": [
       "0"
      ]
     },
     "execution_count": 566,
     "metadata": {},
     "output_type": "execute_result"
    }
   ],
   "source": [
    "avidatacopy[\"Aircraft.Category\"].isnull().sum()"
   ]
  },
  {
   "cell_type": "code",
   "execution_count": 567,
   "id": "53e79c1d-328a-4fcd-8f56-aee4154510ce",
   "metadata": {},
   "outputs": [],
   "source": [
    "avidatacopy.loc[:, \"Registration.Number\"] = avidatacopy[\"Registration.Number\"].fillna(\"Unknown\")"
   ]
  },
  {
   "cell_type": "code",
   "execution_count": 568,
   "id": "3563447e-31c3-4a78-aaa4-6d44272181f8",
   "metadata": {},
   "outputs": [
    {
     "data": {
      "text/plain": [
       "0"
      ]
     },
     "execution_count": 568,
     "metadata": {},
     "output_type": "execute_result"
    }
   ],
   "source": [
    "avidatacopy[\"Registration.Number\"].isnull().sum()"
   ]
  },
  {
   "cell_type": "code",
   "execution_count": 569,
   "id": "28ae227a-fa02-4103-afbc-5c7fdc113d78",
   "metadata": {},
   "outputs": [
    {
     "data": {
      "text/plain": [
       "Engine.Type\n",
       "Reciprocating      69530\n",
       "Turbo Shaft         3609\n",
       "Turbo Prop          3391\n",
       "Turbo Fan           2481\n",
       "Unknown             2051\n",
       "Turbo Jet            703\n",
       "Geared Turbofan       12\n",
       "Electric              10\n",
       "LR                     2\n",
       "NONE                   2\n",
       "Hybrid Rocket          1\n",
       "UNK                    1\n",
       "Name: count, dtype: int64"
      ]
     },
     "execution_count": 569,
     "metadata": {},
     "output_type": "execute_result"
    }
   ],
   "source": [
    "avidatacopy[\"Engine.Type\"].value_counts()"
   ]
  },
  {
   "cell_type": "code",
   "execution_count": 570,
   "id": "a66bdb2b-88af-43a9-8fff-f5eb07d5b1e4",
   "metadata": {},
   "outputs": [],
   "source": [
    "#since there is  2051 unknown Engine.Type I will add the other missing values as unknown\n",
    "avidatacopy.loc[:, \"Engine.Type\"] = avidatacopy[\"Engine.Type\"].fillna(\"Unknown\")"
   ]
  },
  {
   "cell_type": "code",
   "execution_count": 571,
   "id": "f479246d-a6a6-4e53-b659-73253e628f2e",
   "metadata": {},
   "outputs": [
    {
     "data": {
      "text/plain": [
       "Broad.phase.of.flight\n",
       "Landing        15428\n",
       "Takeoff        12493\n",
       "Cruise         10269\n",
       "Maneuvering     8144\n",
       "Approach        6546\n",
       "Climb           2034\n",
       "Taxi            1958\n",
       "Descent         1887\n",
       "Go-around       1353\n",
       "Standing         945\n",
       "Unknown          548\n",
       "Other            119\n",
       "Name: count, dtype: int64"
      ]
     },
     "execution_count": 571,
     "metadata": {},
     "output_type": "execute_result"
    }
   ],
   "source": [
    "avidatacopy[\"Broad.phase.of.flight\"].value_counts()"
   ]
  },
  {
   "cell_type": "code",
   "execution_count": 572,
   "id": "ff58ee12-7981-4852-8276-d0a85fb64422",
   "metadata": {},
   "outputs": [],
   "source": [
    "avidatacopy.loc[:, \"Broad.phase.of.flight\"] = avidatacopy[\"Broad.phase.of.flight\"].fillna(\"Unknown\")"
   ]
  },
  {
   "cell_type": "code",
   "execution_count": 573,
   "id": "8476f442-eb5d-4929-b5dd-d68fe724d101",
   "metadata": {},
   "outputs": [],
   "source": [
    "avidatacopy.loc[:, \"Report.Status\"] = avidatacopy[\"Report.Status\"].fillna(\"Unknown\")"
   ]
  },
  {
   "cell_type": "markdown",
   "id": "eece5ae0-f8d8-441f-98d0-7c20f1b5fceb",
   "metadata": {},
   "source": [
    "Dropping columns with many missing values such as;\n",
    "- FAR.Description\n",
    "- Schedule,Air.carrier"
   ]
  },
  {
   "cell_type": "code",
   "execution_count": 574,
   "id": "cf235c94-b35f-421f-a729-40625863114a",
   "metadata": {},
   "outputs": [],
   "source": [
    "avidatacopy.drop(columns=[\"FAR.Description\", \"Schedule\",\"Air.carrier\"], inplace=True)"
   ]
  },
  {
   "cell_type": "code",
   "execution_count": 575,
   "id": "02b8ddd3-edf7-426c-a548-36c2a59f1040",
   "metadata": {
    "scrolled": true
   },
   "outputs": [
    {
     "name": "stdout",
     "output_type": "stream",
     "text": [
      "<class 'pandas.core.frame.DataFrame'>\n",
      "RangeIndex: 88889 entries, 0 to 88888\n",
      "Data columns (total 25 columns):\n",
      " #   Column                  Non-Null Count  Dtype  \n",
      "---  ------                  --------------  -----  \n",
      " 0   Event.Id                88889 non-null  object \n",
      " 1   Investigation.Type      88889 non-null  object \n",
      " 2   Accident.Number         88889 non-null  object \n",
      " 3   Event.Date              88889 non-null  object \n",
      " 4   Location                88889 non-null  object \n",
      " 5   Country                 88889 non-null  object \n",
      " 6   Airport.Name            88889 non-null  object \n",
      " 7   Aircraft.damage         88889 non-null  object \n",
      " 8   Aircraft.Category       88889 non-null  object \n",
      " 9   Registration.Number     88889 non-null  object \n",
      " 10  Make                    88826 non-null  object \n",
      " 11  Model                   88797 non-null  object \n",
      " 12  Amateur.Built           88787 non-null  object \n",
      " 13  Number.of.Engines       82805 non-null  float64\n",
      " 14  Engine.Type             88889 non-null  object \n",
      " 15  Purpose.of.flight       82697 non-null  object \n",
      " 16  Total.Fatal.Injuries    88889 non-null  object \n",
      " 17  Total.Serious.Injuries  88889 non-null  object \n",
      " 18  Total.Minor.Injuries    88889 non-null  object \n",
      " 19  Total.Uninjured         88889 non-null  object \n",
      " 20  Weather.Condition       84397 non-null  object \n",
      " 21  Broad.phase.of.flight   88889 non-null  object \n",
      " 22  Report.Status           88889 non-null  object \n",
      " 23  Publication.Date        75118 non-null  object \n",
      " 24  Severity                88889 non-null  object \n",
      "dtypes: float64(1), object(24)\n",
      "memory usage: 17.0+ MB\n"
     ]
    }
   ],
   "source": [
    "#checking the data info and confirming the columns have been dropped\n",
    "avidatacopy.info()"
   ]
  },
  {
   "cell_type": "markdown",
   "id": "c845a5e6-3e83-4565-88f7-a720f32f07ba",
   "metadata": {},
   "source": [
    "- Filling this columns with most frequent value\n",
    "- Make\n",
    "- Model\n",
    "- Amateur.Built\n",
    "- Number.of.Engines\n",
    "- Purpose.of.flight\n",
    "- Weather.Condition"
   ]
  },
  {
   "cell_type": "code",
   "execution_count": 576,
   "id": "da9af6a7-7cae-4bd3-8a58-a8ece2059dee",
   "metadata": {},
   "outputs": [],
   "source": [
    "avidatacopy.loc[:, \"Make\"] = avidatacopy[\"Make\"].fillna(avidatacopy[\"Make\"].mode()[0])"
   ]
  },
  {
   "cell_type": "code",
   "execution_count": 577,
   "id": "3c73a18b-0eaa-4b91-8d2a-0f8cab910107",
   "metadata": {},
   "outputs": [],
   "source": [
    "avidatacopy.loc[:, \"Model\"] = avidatacopy[\"Model\"].fillna(avidatacopy[\"Model\"].mode()[0])"
   ]
  },
  {
   "cell_type": "code",
   "execution_count": 578,
   "id": "77d4ac2b-abd6-4e20-8b3b-5123ca631599",
   "metadata": {},
   "outputs": [],
   "source": [
    "avidatacopy.loc[:, \"Purpose.of.flight\"] = avidatacopy[\"Purpose.of.flight\"].fillna(avidatacopy[\"Purpose.of.flight\"].mode()[0])"
   ]
  },
  {
   "cell_type": "code",
   "execution_count": 579,
   "id": "8ab786f3-655d-4772-b3ef-107c856cfb71",
   "metadata": {},
   "outputs": [],
   "source": [
    "avidatacopy.loc[:, \"Amateur.Built\"] = avidatacopy[\"Amateur.Built\"].fillna(avidatacopy[\"Amateur.Built\"].mode()[0])"
   ]
  },
  {
   "cell_type": "code",
   "execution_count": 580,
   "id": "38bf8f56-e1c2-44db-9186-97ee1ef4dc43",
   "metadata": {},
   "outputs": [],
   "source": [
    "avidatacopy.loc[:, \"Number.of.Engines\"] = avidatacopy[\"Number.of.Engines\"].fillna(avidatacopy[\"Number.of.Engines\"].mode()[0])"
   ]
  },
  {
   "cell_type": "code",
   "execution_count": 581,
   "id": "c866f04e-db26-4327-8185-6e2eb407bba0",
   "metadata": {},
   "outputs": [],
   "source": [
    "avidatacopy.loc[:, \"Weather.Condition\"] = avidatacopy[\"Weather.Condition\"].fillna(avidatacopy[\"Weather.Condition\"].mode()[0])"
   ]
  },
  {
   "cell_type": "markdown",
   "id": "f9113cf2-d8cc-43ed-a121-e2959eb6cd45",
   "metadata": {},
   "source": [
    "- For the Publication.Date in order to handel the missing values ,I will use the Event.Date column which has no missing values.\n",
    "- With Event.Date I will calculate the difference between publication_date and event_date for records where both exist.\n",
    "- Using the gap between the two dates of the dates available I will be able to get the average gap and use it to fill in missing       publication_date by adding the average gap to event_date.\n",
    "\n",
    "To achieve the above the columns should be in datetype data type"
   ]
  },
  {
   "cell_type": "code",
   "execution_count": 582,
   "id": "30651f35-0d8a-4492-81d7-6de4cd2c39b7",
   "metadata": {},
   "outputs": [
    {
     "data": {
      "text/plain": [
       "dtype('O')"
      ]
     },
     "execution_count": 582,
     "metadata": {},
     "output_type": "execute_result"
    }
   ],
   "source": [
    "avidatacopy[\"Event.Date\"].dtype"
   ]
  },
  {
   "cell_type": "code",
   "execution_count": 583,
   "id": "aa6cba3d-922a-4693-88ab-8ca7940abc07",
   "metadata": {},
   "outputs": [
    {
     "data": {
      "text/plain": [
       "0        1948-10-24\n",
       "1        1962-07-19\n",
       "2        1974-08-30\n",
       "3        1977-06-19\n",
       "4        1979-08-02\n",
       "            ...    \n",
       "88884    2022-12-26\n",
       "88885    2022-12-26\n",
       "88886    2022-12-26\n",
       "88887    2022-12-26\n",
       "88888    2022-12-29\n",
       "Name: Event.Date, Length: 88889, dtype: object"
      ]
     },
     "execution_count": 583,
     "metadata": {},
     "output_type": "execute_result"
    }
   ],
   "source": [
    "avidatacopy[\"Event.Date\"]"
   ]
  },
  {
   "cell_type": "code",
   "execution_count": 584,
   "id": "084803ab-2bfa-4788-ae9a-4908138049ac",
   "metadata": {},
   "outputs": [],
   "source": [
    "#converting Event.Date column to datetime since it's stored as object.\n",
    "avidatacopy[\"Event.Date\"] = pd.to_datetime(avidatacopy[\"Event.Date\"],format = \"%Y-%m-%d\")"
   ]
  },
  {
   "cell_type": "code",
   "execution_count": 585,
   "id": "c44c41da-d096-4d15-9411-8cf1a87abfeb",
   "metadata": {},
   "outputs": [
    {
     "data": {
      "text/plain": [
       "dtype('O')"
      ]
     },
     "execution_count": 585,
     "metadata": {},
     "output_type": "execute_result"
    }
   ],
   "source": [
    "avidatacopy[\"Publication.Date\"].dtype"
   ]
  },
  {
   "cell_type": "code",
   "execution_count": 586,
   "id": "8377504e-c69b-4747-87e5-24c26864cf7e",
   "metadata": {},
   "outputs": [
    {
     "data": {
      "text/plain": [
       "0               nan\n",
       "1        19-09-1996\n",
       "2        26-02-2007\n",
       "3        12-09-2000\n",
       "4        16-04-1980\n",
       "            ...    \n",
       "88884    29-12-2022\n",
       "88885           nan\n",
       "88886    27-12-2022\n",
       "88887           nan\n",
       "88888    30-12-2022\n",
       "Name: Publication.Date, Length: 88889, dtype: object"
      ]
     },
     "execution_count": 586,
     "metadata": {},
     "output_type": "execute_result"
    }
   ],
   "source": [
    "# standardizing my publication date column since it has both (/)and (-) as the seperators of the date\n",
    "avidatacopy[\"Publication.Date\"] = avidatacopy[\"Publication.Date\"].astype(str).str.replace(\"/\", \"-\")\n",
    "avidatacopy[\"Publication.Date\"]"
   ]
  },
  {
   "cell_type": "code",
   "execution_count": 587,
   "id": "a0dc08d8-e045-45e5-8e5a-3b52d8ba936b",
   "metadata": {},
   "outputs": [],
   "source": [
    "avidatacopy[\"Publication.Date\"] = pd.to_datetime(avidatacopy[\"Publication.Date\"],format = \"%d-%m-%Y\")"
   ]
  },
  {
   "cell_type": "code",
   "execution_count": 588,
   "id": "e0f55c98-f0a1-412f-a876-ee579c034c51",
   "metadata": {},
   "outputs": [
    {
     "name": "stdout",
     "output_type": "stream",
     "text": [
      "datetime64[ns]\n"
     ]
    }
   ],
   "source": [
    "print(avidatacopy[\"Event.Date\"].dtype)"
   ]
  },
  {
   "cell_type": "code",
   "execution_count": 589,
   "id": "2bd56885-41f2-44ed-bd31-d50eaf82e3a4",
   "metadata": {},
   "outputs": [
    {
     "name": "stdout",
     "output_type": "stream",
     "text": [
      "datetime64[ns]\n"
     ]
    }
   ],
   "source": [
    "print(avidatacopy[\"Publication.Date\"].dtype)"
   ]
  },
  {
   "cell_type": "code",
   "execution_count": 590,
   "id": "12c0b98e-f2fd-42e5-8d3c-f0ab213bc149",
   "metadata": {},
   "outputs": [
    {
     "data": {
      "text/plain": [
       "0            NaN\n",
       "1        12481.0\n",
       "2        11868.0\n",
       "3         8486.0\n",
       "4          258.0\n",
       "          ...   \n",
       "88884        3.0\n",
       "88885        NaN\n",
       "88886        1.0\n",
       "88887        NaN\n",
       "88888        1.0\n",
       "Name: gap, Length: 88889, dtype: float64"
      ]
     },
     "execution_count": 590,
     "metadata": {},
     "output_type": "execute_result"
    }
   ],
   "source": [
    "#Calculating the dates gap\n",
    "avidatacopy[\"gap\"]= (avidatacopy[\"Publication.Date\"] - avidatacopy[\"Event.Date\"]).dt.days\n",
    "avidatacopy[\"gap\"]"
   ]
  },
  {
   "cell_type": "code",
   "execution_count": 591,
   "id": "df6d3de2-e299-474b-a430-6b6e87d4c963",
   "metadata": {
    "scrolled": true
   },
   "outputs": [
    {
     "data": {
      "text/html": [
       "<div>\n",
       "<style scoped>\n",
       "    .dataframe tbody tr th:only-of-type {\n",
       "        vertical-align: middle;\n",
       "    }\n",
       "\n",
       "    .dataframe tbody tr th {\n",
       "        vertical-align: top;\n",
       "    }\n",
       "\n",
       "    .dataframe thead th {\n",
       "        text-align: right;\n",
       "    }\n",
       "</style>\n",
       "<table border=\"1\" class=\"dataframe\">\n",
       "  <thead>\n",
       "    <tr style=\"text-align: right;\">\n",
       "      <th></th>\n",
       "      <th>Publication.Date</th>\n",
       "      <th>Event.Date</th>\n",
       "      <th>gap</th>\n",
       "    </tr>\n",
       "  </thead>\n",
       "  <tbody>\n",
       "    <tr>\n",
       "      <th>1</th>\n",
       "      <td>1996-09-19</td>\n",
       "      <td>1962-07-19</td>\n",
       "      <td>12481.0</td>\n",
       "    </tr>\n",
       "    <tr>\n",
       "      <th>2</th>\n",
       "      <td>2007-02-26</td>\n",
       "      <td>1974-08-30</td>\n",
       "      <td>11868.0</td>\n",
       "    </tr>\n",
       "    <tr>\n",
       "      <th>5</th>\n",
       "      <td>2017-09-19</td>\n",
       "      <td>1979-09-17</td>\n",
       "      <td>13882.0</td>\n",
       "    </tr>\n",
       "    <tr>\n",
       "      <th>260</th>\n",
       "      <td>2011-05-05</td>\n",
       "      <td>1982-02-07</td>\n",
       "      <td>10679.0</td>\n",
       "    </tr>\n",
       "    <tr>\n",
       "      <th>293</th>\n",
       "      <td>2017-10-30</td>\n",
       "      <td>1982-02-11</td>\n",
       "      <td>13045.0</td>\n",
       "    </tr>\n",
       "  </tbody>\n",
       "</table>\n",
       "</div>"
      ],
      "text/plain": [
       "    Publication.Date Event.Date      gap\n",
       "1         1996-09-19 1962-07-19  12481.0\n",
       "2         2007-02-26 1974-08-30  11868.0\n",
       "5         2017-09-19 1979-09-17  13882.0\n",
       "260       2011-05-05 1982-02-07  10679.0\n",
       "293       2017-10-30 1982-02-11  13045.0"
      ]
     },
     "execution_count": 591,
     "metadata": {},
     "output_type": "execute_result"
    }
   ],
   "source": [
    "#Checking for the extreem days executed \n",
    "avidatacopy.loc[avidatacopy[\"gap\"] > 10000, [\"Publication.Date\", \"Event.Date\", \"gap\"]].head()"
   ]
  },
  {
   "cell_type": "code",
   "execution_count": 592,
   "id": "f1fb0b89-0150-43d0-a18a-a9cbafae9eaf",
   "metadata": {},
   "outputs": [
    {
     "name": "stdout",
     "output_type": "stream",
     "text": [
      "Average gap between Event and Publication: 1025.3769669054022 days\n"
     ]
    }
   ],
   "source": [
    "#The average time it takes from when an event happens to when its publicated \n",
    "average_gap = avidatacopy[\"gap\"].mean()  # Mean gap in days\n",
    "print(f\"Average gap between Event and Publication: {average_gap} days\")"
   ]
  },
  {
   "cell_type": "code",
   "execution_count": 593,
   "id": "8211988d-14a5-46ec-9950-878d0703672b",
   "metadata": {},
   "outputs": [],
   "source": [
    "# Using the average days to fill in the missing values in the publication date column \n",
    "missing_dates = avidatacopy[\"Publication.Date\"].isna()\n",
    "avidatacopy.loc[missing_dates, \"Publication.Date\"] = avidatacopy[\"Event.Date\"] + pd.Timedelta(days=average_gap)"
   ]
  },
  {
   "cell_type": "code",
   "execution_count": 594,
   "id": "f3aa97fe-4946-4fc0-9bf6-c6e7f9d6e6a1",
   "metadata": {},
   "outputs": [
    {
     "data": {
      "text/plain": [
       "0"
      ]
     },
     "execution_count": 594,
     "metadata": {},
     "output_type": "execute_result"
    }
   ],
   "source": [
    "avidatacopy[\"Event.Date\"].isnull().sum()"
   ]
  },
  {
   "cell_type": "code",
   "execution_count": 595,
   "id": "7c5b8c44-4cae-4ae5-b35f-eba4cad8d8b3",
   "metadata": {},
   "outputs": [],
   "source": [
    "# Dropping the gap column after filling the missing values\n",
    "avidatacopy.drop(columns=[\"gap\"], inplace=True)"
   ]
  },
  {
   "cell_type": "markdown",
   "id": "506e0d27-0524-4685-ac15-bf2401498f3d",
   "metadata": {},
   "source": [
    "- confirming the data Information has no missing values after all the modification"
   ]
  },
  {
   "cell_type": "code",
   "execution_count": 596,
   "id": "49011b76-3c6d-4fcb-840e-470d28155306",
   "metadata": {},
   "outputs": [
    {
     "name": "stdout",
     "output_type": "stream",
     "text": [
      "<class 'pandas.core.frame.DataFrame'>\n",
      "RangeIndex: 88889 entries, 0 to 88888\n",
      "Data columns (total 25 columns):\n",
      " #   Column                  Non-Null Count  Dtype         \n",
      "---  ------                  --------------  -----         \n",
      " 0   Event.Id                88889 non-null  object        \n",
      " 1   Investigation.Type      88889 non-null  object        \n",
      " 2   Accident.Number         88889 non-null  object        \n",
      " 3   Event.Date              88889 non-null  datetime64[ns]\n",
      " 4   Location                88889 non-null  object        \n",
      " 5   Country                 88889 non-null  object        \n",
      " 6   Airport.Name            88889 non-null  object        \n",
      " 7   Aircraft.damage         88889 non-null  object        \n",
      " 8   Aircraft.Category       88889 non-null  object        \n",
      " 9   Registration.Number     88889 non-null  object        \n",
      " 10  Make                    88889 non-null  object        \n",
      " 11  Model                   88889 non-null  object        \n",
      " 12  Amateur.Built           88889 non-null  object        \n",
      " 13  Number.of.Engines       88889 non-null  float64       \n",
      " 14  Engine.Type             88889 non-null  object        \n",
      " 15  Purpose.of.flight       88889 non-null  object        \n",
      " 16  Total.Fatal.Injuries    88889 non-null  object        \n",
      " 17  Total.Serious.Injuries  88889 non-null  object        \n",
      " 18  Total.Minor.Injuries    88889 non-null  object        \n",
      " 19  Total.Uninjured         88889 non-null  object        \n",
      " 20  Weather.Condition       88889 non-null  object        \n",
      " 21  Broad.phase.of.flight   88889 non-null  object        \n",
      " 22  Report.Status           88889 non-null  object        \n",
      " 23  Publication.Date        88889 non-null  datetime64[ns]\n",
      " 24  Severity                88889 non-null  object        \n",
      "dtypes: datetime64[ns](2), float64(1), object(22)\n",
      "memory usage: 17.0+ MB\n"
     ]
    }
   ],
   "source": [
    "avidatacopy.info()"
   ]
  },
  {
   "cell_type": "markdown",
   "id": "389b8e81-72af-45ba-b7e0-722e4bbcfe06",
   "metadata": {
    "jp-MarkdownHeadingCollapsed": true
   },
   "source": [
    "## ii) Handling the datatypes "
   ]
  },
  {
   "cell_type": "markdown",
   "id": "d9fbdf26-ac65-4934-97e4-7ec81e579fa5",
   "metadata": {},
   "source": [
    "Handling datatypes correctly is crucial because it ensures:\n",
    "- Reduces memory consumption.\n",
    "- Avoiding type errors when working with different datas\n",
    "- It increases data accuracy"
   ]
  },
  {
   "cell_type": "code",
   "execution_count": 597,
   "id": "7d1eeba0-d69c-409f-ad3f-e52286a7f2f4",
   "metadata": {},
   "outputs": [
    {
     "name": "stdout",
     "output_type": "stream",
     "text": [
      "<class 'pandas.core.frame.DataFrame'>\n",
      "RangeIndex: 88889 entries, 0 to 88888\n",
      "Data columns (total 25 columns):\n",
      " #   Column                  Non-Null Count  Dtype         \n",
      "---  ------                  --------------  -----         \n",
      " 0   Event.Id                88889 non-null  object        \n",
      " 1   Investigation.Type      88889 non-null  object        \n",
      " 2   Accident.Number         88889 non-null  object        \n",
      " 3   Event.Date              88889 non-null  datetime64[ns]\n",
      " 4   Location                88889 non-null  object        \n",
      " 5   Country                 88889 non-null  object        \n",
      " 6   Airport.Name            88889 non-null  object        \n",
      " 7   Aircraft.damage         88889 non-null  object        \n",
      " 8   Aircraft.Category       88889 non-null  object        \n",
      " 9   Registration.Number     88889 non-null  object        \n",
      " 10  Make                    88889 non-null  object        \n",
      " 11  Model                   88889 non-null  object        \n",
      " 12  Amateur.Built           88889 non-null  object        \n",
      " 13  Number.of.Engines       88889 non-null  float64       \n",
      " 14  Engine.Type             88889 non-null  object        \n",
      " 15  Purpose.of.flight       88889 non-null  object        \n",
      " 16  Total.Fatal.Injuries    88889 non-null  object        \n",
      " 17  Total.Serious.Injuries  88889 non-null  object        \n",
      " 18  Total.Minor.Injuries    88889 non-null  object        \n",
      " 19  Total.Uninjured         88889 non-null  object        \n",
      " 20  Weather.Condition       88889 non-null  object        \n",
      " 21  Broad.phase.of.flight   88889 non-null  object        \n",
      " 22  Report.Status           88889 non-null  object        \n",
      " 23  Publication.Date        88889 non-null  datetime64[ns]\n",
      " 24  Severity                88889 non-null  object        \n",
      "dtypes: datetime64[ns](2), float64(1), object(22)\n",
      "memory usage: 17.0+ MB\n"
     ]
    }
   ],
   "source": [
    "avidatacopy.info()"
   ]
  },
  {
   "cell_type": "code",
   "execution_count": 605,
   "id": "4d9fde12-8a9a-426f-bfda-5d4bf5e56c52",
   "metadata": {},
   "outputs": [
    {
     "data": {
      "text/html": [
       "<div>\n",
       "<style scoped>\n",
       "    .dataframe tbody tr th:only-of-type {\n",
       "        vertical-align: middle;\n",
       "    }\n",
       "\n",
       "    .dataframe tbody tr th {\n",
       "        vertical-align: top;\n",
       "    }\n",
       "\n",
       "    .dataframe thead th {\n",
       "        text-align: right;\n",
       "    }\n",
       "</style>\n",
       "<table border=\"1\" class=\"dataframe\">\n",
       "  <thead>\n",
       "    <tr style=\"text-align: right;\">\n",
       "      <th></th>\n",
       "      <th>Event.Id</th>\n",
       "      <th>Investigation.Type</th>\n",
       "      <th>Accident.Number</th>\n",
       "      <th>Event.Date</th>\n",
       "      <th>Location</th>\n",
       "      <th>Country</th>\n",
       "      <th>Airport.Name</th>\n",
       "      <th>Aircraft.damage</th>\n",
       "      <th>Aircraft.Category</th>\n",
       "      <th>Registration.Number</th>\n",
       "      <th>...</th>\n",
       "      <th>Purpose.of.flight</th>\n",
       "      <th>Total.Fatal.Injuries</th>\n",
       "      <th>Total.Serious.Injuries</th>\n",
       "      <th>Total.Minor.Injuries</th>\n",
       "      <th>Total.Uninjured</th>\n",
       "      <th>Weather.Condition</th>\n",
       "      <th>Broad.phase.of.flight</th>\n",
       "      <th>Report.Status</th>\n",
       "      <th>Publication.Date</th>\n",
       "      <th>Severity</th>\n",
       "    </tr>\n",
       "  </thead>\n",
       "  <tbody>\n",
       "    <tr>\n",
       "      <th>0</th>\n",
       "      <td>20001218X45444</td>\n",
       "      <td>Accident</td>\n",
       "      <td>SEA87LA080</td>\n",
       "      <td>1948-10-24</td>\n",
       "      <td>MOOSE CREEK, ID</td>\n",
       "      <td>United States</td>\n",
       "      <td>Unknown</td>\n",
       "      <td>Destroyed</td>\n",
       "      <td>Unknown</td>\n",
       "      <td>NC6404</td>\n",
       "      <td>...</td>\n",
       "      <td>Personal</td>\n",
       "      <td>2.0</td>\n",
       "      <td>0.0</td>\n",
       "      <td>0.0</td>\n",
       "      <td>0.0</td>\n",
       "      <td>UNK</td>\n",
       "      <td>Cruise</td>\n",
       "      <td>Probable Cause</td>\n",
       "      <td>1951-08-15 09:02:49.940626752</td>\n",
       "      <td>Fatal</td>\n",
       "    </tr>\n",
       "    <tr>\n",
       "      <th>1</th>\n",
       "      <td>20001218X45447</td>\n",
       "      <td>Accident</td>\n",
       "      <td>LAX94LA336</td>\n",
       "      <td>1962-07-19</td>\n",
       "      <td>BRIDGEPORT, CA</td>\n",
       "      <td>United States</td>\n",
       "      <td>Unknown</td>\n",
       "      <td>Destroyed</td>\n",
       "      <td>Unknown</td>\n",
       "      <td>N5069P</td>\n",
       "      <td>...</td>\n",
       "      <td>Personal</td>\n",
       "      <td>4.0</td>\n",
       "      <td>0.0</td>\n",
       "      <td>0.0</td>\n",
       "      <td>0.0</td>\n",
       "      <td>UNK</td>\n",
       "      <td>Unknown</td>\n",
       "      <td>Probable Cause</td>\n",
       "      <td>1996-09-19 00:00:00.000000000</td>\n",
       "      <td>Fatal</td>\n",
       "    </tr>\n",
       "    <tr>\n",
       "      <th>2</th>\n",
       "      <td>20061025X01555</td>\n",
       "      <td>Accident</td>\n",
       "      <td>NYC07LA005</td>\n",
       "      <td>1974-08-30</td>\n",
       "      <td>Saltville, VA</td>\n",
       "      <td>United States</td>\n",
       "      <td>Unknown</td>\n",
       "      <td>Destroyed</td>\n",
       "      <td>Unknown</td>\n",
       "      <td>N5142R</td>\n",
       "      <td>...</td>\n",
       "      <td>Personal</td>\n",
       "      <td>3.0</td>\n",
       "      <td>Unknown</td>\n",
       "      <td>Unknown</td>\n",
       "      <td>Unknown</td>\n",
       "      <td>IMC</td>\n",
       "      <td>Cruise</td>\n",
       "      <td>Probable Cause</td>\n",
       "      <td>2007-02-26 00:00:00.000000000</td>\n",
       "      <td>Fatal</td>\n",
       "    </tr>\n",
       "    <tr>\n",
       "      <th>3</th>\n",
       "      <td>20001218X45448</td>\n",
       "      <td>Accident</td>\n",
       "      <td>LAX96LA321</td>\n",
       "      <td>1977-06-19</td>\n",
       "      <td>EUREKA, CA</td>\n",
       "      <td>United States</td>\n",
       "      <td>Unknown</td>\n",
       "      <td>Destroyed</td>\n",
       "      <td>Unknown</td>\n",
       "      <td>N1168J</td>\n",
       "      <td>...</td>\n",
       "      <td>Personal</td>\n",
       "      <td>2.0</td>\n",
       "      <td>0.0</td>\n",
       "      <td>0.0</td>\n",
       "      <td>0.0</td>\n",
       "      <td>IMC</td>\n",
       "      <td>Cruise</td>\n",
       "      <td>Probable Cause</td>\n",
       "      <td>2000-09-12 00:00:00.000000000</td>\n",
       "      <td>Fatal</td>\n",
       "    </tr>\n",
       "    <tr>\n",
       "      <th>4</th>\n",
       "      <td>20041105X01764</td>\n",
       "      <td>Accident</td>\n",
       "      <td>CHI79FA064</td>\n",
       "      <td>1979-08-02</td>\n",
       "      <td>Canton, OH</td>\n",
       "      <td>United States</td>\n",
       "      <td>Unknown</td>\n",
       "      <td>Destroyed</td>\n",
       "      <td>Unknown</td>\n",
       "      <td>N15NY</td>\n",
       "      <td>...</td>\n",
       "      <td>Personal</td>\n",
       "      <td>1.0</td>\n",
       "      <td>2.0</td>\n",
       "      <td>Unknown</td>\n",
       "      <td>0.0</td>\n",
       "      <td>VMC</td>\n",
       "      <td>Approach</td>\n",
       "      <td>Probable Cause</td>\n",
       "      <td>1980-04-16 00:00:00.000000000</td>\n",
       "      <td>Serious injuries</td>\n",
       "    </tr>\n",
       "  </tbody>\n",
       "</table>\n",
       "<p>5 rows × 25 columns</p>\n",
       "</div>"
      ],
      "text/plain": [
       "         Event.Id Investigation.Type Accident.Number Event.Date  \\\n",
       "0  20001218X45444           Accident      SEA87LA080 1948-10-24   \n",
       "1  20001218X45447           Accident      LAX94LA336 1962-07-19   \n",
       "2  20061025X01555           Accident      NYC07LA005 1974-08-30   \n",
       "3  20001218X45448           Accident      LAX96LA321 1977-06-19   \n",
       "4  20041105X01764           Accident      CHI79FA064 1979-08-02   \n",
       "\n",
       "          Location        Country Airport.Name Aircraft.damage  \\\n",
       "0  MOOSE CREEK, ID  United States      Unknown       Destroyed   \n",
       "1   BRIDGEPORT, CA  United States      Unknown       Destroyed   \n",
       "2    Saltville, VA  United States      Unknown       Destroyed   \n",
       "3       EUREKA, CA  United States      Unknown       Destroyed   \n",
       "4       Canton, OH  United States      Unknown       Destroyed   \n",
       "\n",
       "  Aircraft.Category Registration.Number  ... Purpose.of.flight  \\\n",
       "0           Unknown              NC6404  ...          Personal   \n",
       "1           Unknown              N5069P  ...          Personal   \n",
       "2           Unknown              N5142R  ...          Personal   \n",
       "3           Unknown              N1168J  ...          Personal   \n",
       "4           Unknown               N15NY  ...          Personal   \n",
       "\n",
       "  Total.Fatal.Injuries Total.Serious.Injuries  Total.Minor.Injuries  \\\n",
       "0                  2.0                    0.0                   0.0   \n",
       "1                  4.0                    0.0                   0.0   \n",
       "2                  3.0                Unknown               Unknown   \n",
       "3                  2.0                    0.0                   0.0   \n",
       "4                  1.0                    2.0               Unknown   \n",
       "\n",
       "  Total.Uninjured Weather.Condition Broad.phase.of.flight   Report.Status  \\\n",
       "0             0.0               UNK                Cruise  Probable Cause   \n",
       "1             0.0               UNK               Unknown  Probable Cause   \n",
       "2         Unknown               IMC                Cruise  Probable Cause   \n",
       "3             0.0               IMC                Cruise  Probable Cause   \n",
       "4             0.0               VMC              Approach  Probable Cause   \n",
       "\n",
       "               Publication.Date          Severity  \n",
       "0 1951-08-15 09:02:49.940626752             Fatal  \n",
       "1 1996-09-19 00:00:00.000000000             Fatal  \n",
       "2 2007-02-26 00:00:00.000000000             Fatal  \n",
       "3 2000-09-12 00:00:00.000000000             Fatal  \n",
       "4 1980-04-16 00:00:00.000000000  Serious injuries  \n",
       "\n",
       "[5 rows x 25 columns]"
      ]
     },
     "execution_count": 605,
     "metadata": {},
     "output_type": "execute_result"
    }
   ],
   "source": [
    "avidatacopy.head()"
   ]
  },
  {
   "cell_type": "code",
   "execution_count": 611,
   "id": "7f34db37-9072-48ea-815e-fb9a49966124",
   "metadata": {},
   "outputs": [],
   "source": [
    "# Column Investigation.Type is object but can be converted to categorical data type \n",
    "avidatacopy['Investigation.Type'] = avidatacopy['Investigation.Type'].astype('category')"
   ]
  },
  {
   "cell_type": "code",
   "execution_count": 617,
   "id": "b50d5861-8323-4706-8db1-a5f782f80d1b",
   "metadata": {},
   "outputs": [],
   "source": [
    "# changing column Aircraft.damage from object to categorical datattype ,it has limited set of unique values\n",
    "avidatacopy['Aircraft.damage'] = avidatacopy['Aircraft.damage'].astype('category')"
   ]
  },
  {
   "cell_type": "code",
   "execution_count": 621,
   "id": "a03cbe44-1c38-404d-8943-d32d489c2241",
   "metadata": {},
   "outputs": [],
   "source": [
    "# changing Amateur.Built from object to boolen since it has only \"yes and \"No\" values\n",
    "avidatacopy['Amateur.Built'] = (avidatacopy['Amateur.Built'] == 'Yes').astype(bool)"
   ]
  },
  {
   "cell_type": "code",
   "execution_count": 627,
   "id": "c12c8dcb-a276-4ab0-bbfe-69f7180432c4",
   "metadata": {},
   "outputs": [],
   "source": [
    "#Changing Severity column from object to categorical data type \n",
    "avidatacopy['Severity'] = avidatacopy['Severity'].astype('category')"
   ]
  },
  {
   "cell_type": "code",
   "execution_count": 634,
   "id": "f1db6e55-49d8-49af-a297-2d3ecdf11b2f",
   "metadata": {},
   "outputs": [],
   "source": [
    "#Changing the Total.Fatal.Injuries to floats and since it has the \"Unknown' that will be converted to NaN\n",
    "avidatacopy['Total.Fatal.Injuries'] = pd.to_numeric(avidatacopy['Total.Fatal.Injuries'], errors='coerce')"
   ]
  },
  {
   "cell_type": "code",
   "execution_count": 633,
   "id": "b1e76e54-3af6-4b04-9f02-12bad2624b0e",
   "metadata": {},
   "outputs": [],
   "source": [
    "#Changing the Total.Serious.Injuries to floats to ease analysis\n",
    "avidatacopy['Total.Serious.Injuries'] = pd.to_numeric(avidatacopy['Total.Serious.Injuries'], errors='coerce')"
   ]
  },
  {
   "cell_type": "code",
   "execution_count": 635,
   "id": "a6b865f4-8a4e-428c-aaf9-a95e1c1e8c96",
   "metadata": {},
   "outputs": [],
   "source": [
    "#Coercing the Total.Minor.Injuries to floats\n",
    "avidatacopy['Total.Minor.Injuries'] = pd.to_numeric(avidatacopy['Total.Minor.Injuries'], errors='coerce')"
   ]
  },
  {
   "cell_type": "code",
   "execution_count": 636,
   "id": "cad45cf2-eff6-4865-b832-ac65e31d5e6e",
   "metadata": {},
   "outputs": [],
   "source": [
    "#Coercing the Total.Uninjured to floats\n",
    "avidatacopy['Total.Uninjured'] = pd.to_numeric(avidatacopy['Total.Uninjured'], errors='coerce')"
   ]
  },
  {
   "cell_type": "code",
   "execution_count": 637,
   "id": "325637c7-c268-4cb1-a875-bcf048913ee1",
   "metadata": {},
   "outputs": [
    {
     "name": "stdout",
     "output_type": "stream",
     "text": [
      "<class 'pandas.core.frame.DataFrame'>\n",
      "RangeIndex: 88889 entries, 0 to 88888\n",
      "Data columns (total 25 columns):\n",
      " #   Column                  Non-Null Count  Dtype         \n",
      "---  ------                  --------------  -----         \n",
      " 0   Event.Id                88889 non-null  object        \n",
      " 1   Investigation.Type      88889 non-null  category      \n",
      " 2   Accident.Number         88889 non-null  object        \n",
      " 3   Event.Date              88889 non-null  datetime64[ns]\n",
      " 4   Location                88889 non-null  object        \n",
      " 5   Country                 88889 non-null  object        \n",
      " 6   Airport.Name            88889 non-null  object        \n",
      " 7   Aircraft.damage         88889 non-null  category      \n",
      " 8   Aircraft.Category       88889 non-null  object        \n",
      " 9   Registration.Number     88889 non-null  object        \n",
      " 10  Make                    88889 non-null  object        \n",
      " 11  Model                   88889 non-null  object        \n",
      " 12  Amateur.Built           88889 non-null  bool          \n",
      " 13  Number.of.Engines       88889 non-null  float64       \n",
      " 14  Engine.Type             88889 non-null  object        \n",
      " 15  Purpose.of.flight       88889 non-null  object        \n",
      " 16  Total.Fatal.Injuries    77488 non-null  float64       \n",
      " 17  Total.Serious.Injuries  76379 non-null  float64       \n",
      " 18  Total.Minor.Injuries    76956 non-null  float64       \n",
      " 19  Total.Uninjured         82977 non-null  float64       \n",
      " 20  Weather.Condition       88889 non-null  object        \n",
      " 21  Broad.phase.of.flight   88889 non-null  object        \n",
      " 22  Report.Status           88889 non-null  object        \n",
      " 23  Publication.Date        88889 non-null  datetime64[ns]\n",
      " 24  Severity                88889 non-null  category      \n",
      "dtypes: bool(1), category(3), datetime64[ns](2), float64(5), object(14)\n",
      "memory usage: 14.6+ MB\n"
     ]
    }
   ],
   "source": [
    "#Checking if all the data types has been changed and if I missing any \n",
    "avidatacopy.info()"
   ]
  },
  {
   "cell_type": "code",
   "execution_count": 639,
   "id": "f2eed365-046b-42a4-9238-48c91b239973",
   "metadata": {},
   "outputs": [],
   "source": [
    "#Saving the clean data as CSV\n",
    "avidatacopy.to_csv(\"avidatacopy.csv\",index = False)"
   ]
  },
  {
   "cell_type": "markdown",
   "id": "113f51b1-a373-4ce8-bbcf-fb840e8206bb",
   "metadata": {},
   "source": [
    "# 3. EDA"
   ]
  },
  {
   "cell_type": "markdown",
   "id": "7d91b10a-4149-4580-b35a-98fee9c83e35",
   "metadata": {},
   "source": [
    "## i) General Accidents Assesment"
   ]
  },
  {
   "cell_type": "markdown",
   "id": "63af81f8-71d8-4534-816a-21385efd8bb1",
   "metadata": {},
   "source": [
    "### i.a) The basic summary statistics (mean, median, range) for injury counts."
   ]
  },
  {
   "cell_type": "code",
   "execution_count": 642,
   "id": "c067ecdd-60c3-4076-8d04-7349d93ea888",
   "metadata": {
    "scrolled": true
   },
   "outputs": [
    {
     "name": "stdout",
     "output_type": "stream",
     "text": [
      "<class 'pandas.core.frame.DataFrame'>\n",
      "RangeIndex: 88889 entries, 0 to 88888\n",
      "Data columns (total 25 columns):\n",
      " #   Column                  Non-Null Count  Dtype         \n",
      "---  ------                  --------------  -----         \n",
      " 0   Event.Id                88889 non-null  object        \n",
      " 1   Investigation.Type      88889 non-null  category      \n",
      " 2   Accident.Number         88889 non-null  object        \n",
      " 3   Event.Date              88889 non-null  datetime64[ns]\n",
      " 4   Location                88889 non-null  object        \n",
      " 5   Country                 88889 non-null  object        \n",
      " 6   Airport.Name            88889 non-null  object        \n",
      " 7   Aircraft.damage         88889 non-null  category      \n",
      " 8   Aircraft.Category       88889 non-null  object        \n",
      " 9   Registration.Number     88889 non-null  object        \n",
      " 10  Make                    88889 non-null  object        \n",
      " 11  Model                   88889 non-null  object        \n",
      " 12  Amateur.Built           88889 non-null  bool          \n",
      " 13  Number.of.Engines       88889 non-null  float64       \n",
      " 14  Engine.Type             88889 non-null  object        \n",
      " 15  Purpose.of.flight       88889 non-null  object        \n",
      " 16  Total.Fatal.Injuries    77488 non-null  float64       \n",
      " 17  Total.Serious.Injuries  76379 non-null  float64       \n",
      " 18  Total.Minor.Injuries    76956 non-null  float64       \n",
      " 19  Total.Uninjured         82977 non-null  float64       \n",
      " 20  Weather.Condition       88889 non-null  object        \n",
      " 21  Broad.phase.of.flight   88889 non-null  object        \n",
      " 22  Report.Status           88889 non-null  object        \n",
      " 23  Publication.Date        88889 non-null  datetime64[ns]\n",
      " 24  Severity                88889 non-null  category      \n",
      "dtypes: bool(1), category(3), datetime64[ns](2), float64(5), object(14)\n",
      "memory usage: 14.6+ MB\n"
     ]
    }
   ],
   "source": [
    "avidatacopy.info()"
   ]
  },
  {
   "cell_type": "code",
   "execution_count": 647,
   "id": "3783e967-ad4b-40b3-8b6c-6a11cdb1f38d",
   "metadata": {},
   "outputs": [
    {
     "data": {
      "text/html": [
       "<div>\n",
       "<style scoped>\n",
       "    .dataframe tbody tr th:only-of-type {\n",
       "        vertical-align: middle;\n",
       "    }\n",
       "\n",
       "    .dataframe tbody tr th {\n",
       "        vertical-align: top;\n",
       "    }\n",
       "\n",
       "    .dataframe thead th {\n",
       "        text-align: right;\n",
       "    }\n",
       "</style>\n",
       "<table border=\"1\" class=\"dataframe\">\n",
       "  <thead>\n",
       "    <tr style=\"text-align: right;\">\n",
       "      <th></th>\n",
       "      <th>Total.Fatal.Injuries</th>\n",
       "      <th>Total.Serious.Injuries</th>\n",
       "      <th>Total.Minor.Injuries</th>\n",
       "      <th>Total.Uninjured</th>\n",
       "    </tr>\n",
       "  </thead>\n",
       "  <tbody>\n",
       "    <tr>\n",
       "      <th>count</th>\n",
       "      <td>77488.000000</td>\n",
       "      <td>76379.000000</td>\n",
       "      <td>76956.000000</td>\n",
       "      <td>82977.000000</td>\n",
       "    </tr>\n",
       "    <tr>\n",
       "      <th>mean</th>\n",
       "      <td>0.647855</td>\n",
       "      <td>0.279881</td>\n",
       "      <td>0.357061</td>\n",
       "      <td>5.325440</td>\n",
       "    </tr>\n",
       "    <tr>\n",
       "      <th>std</th>\n",
       "      <td>5.485960</td>\n",
       "      <td>1.544084</td>\n",
       "      <td>2.235625</td>\n",
       "      <td>27.913634</td>\n",
       "    </tr>\n",
       "    <tr>\n",
       "      <th>min</th>\n",
       "      <td>0.000000</td>\n",
       "      <td>0.000000</td>\n",
       "      <td>0.000000</td>\n",
       "      <td>0.000000</td>\n",
       "    </tr>\n",
       "    <tr>\n",
       "      <th>25%</th>\n",
       "      <td>0.000000</td>\n",
       "      <td>0.000000</td>\n",
       "      <td>0.000000</td>\n",
       "      <td>0.000000</td>\n",
       "    </tr>\n",
       "    <tr>\n",
       "      <th>50%</th>\n",
       "      <td>0.000000</td>\n",
       "      <td>0.000000</td>\n",
       "      <td>0.000000</td>\n",
       "      <td>1.000000</td>\n",
       "    </tr>\n",
       "    <tr>\n",
       "      <th>75%</th>\n",
       "      <td>0.000000</td>\n",
       "      <td>0.000000</td>\n",
       "      <td>0.000000</td>\n",
       "      <td>2.000000</td>\n",
       "    </tr>\n",
       "    <tr>\n",
       "      <th>max</th>\n",
       "      <td>349.000000</td>\n",
       "      <td>161.000000</td>\n",
       "      <td>380.000000</td>\n",
       "      <td>699.000000</td>\n",
       "    </tr>\n",
       "  </tbody>\n",
       "</table>\n",
       "</div>"
      ],
      "text/plain": [
       "       Total.Fatal.Injuries  Total.Serious.Injuries  Total.Minor.Injuries  \\\n",
       "count          77488.000000            76379.000000          76956.000000   \n",
       "mean               0.647855                0.279881              0.357061   \n",
       "std                5.485960                1.544084              2.235625   \n",
       "min                0.000000                0.000000              0.000000   \n",
       "25%                0.000000                0.000000              0.000000   \n",
       "50%                0.000000                0.000000              0.000000   \n",
       "75%                0.000000                0.000000              0.000000   \n",
       "max              349.000000              161.000000            380.000000   \n",
       "\n",
       "       Total.Uninjured  \n",
       "count     82977.000000  \n",
       "mean          5.325440  \n",
       "std          27.913634  \n",
       "min           0.000000  \n",
       "25%           0.000000  \n",
       "50%           1.000000  \n",
       "75%           2.000000  \n",
       "max         699.000000  "
      ]
     },
     "execution_count": 647,
     "metadata": {},
     "output_type": "execute_result"
    }
   ],
   "source": [
    "#The distribution of injuries\n",
    "avidatacopy[[\"Total.Fatal.Injuries\",\"Total.Serious.Injuries\",\"Total.Minor.Injuries\",\"Total.Uninjured\"]].describe()"
   ]
  },
  {
   "cell_type": "markdown",
   "id": "9ce8dbc8-7962-49b8-b901-a97d31410ffa",
   "metadata": {},
   "source": [
    "The above results shows ;\n",
    "- The counts vary slightly across the variables this is beacuse we had some missing values in the dataset\n",
    "- The high max values suggest that certain events result in large numbers of injuries and fatalities.\n",
    "- 50% of incidents have zero injuries suggesting many incidents do not result in injuries.\n",
    "- Most incidents have few injuries, but some extreme cases cause many casualties."
   ]
  },
  {
   "cell_type": "markdown",
   "id": "dce041ef-589e-40e6-b6d4-a63923a603ae",
   "metadata": {},
   "source": [
    "### i.b) Over what time period do the accidents occur?"
   ]
  },
  {
   "cell_type": "code",
   "execution_count": 651,
   "id": "0c7d3f42-c289-4806-8bb1-82108624726a",
   "metadata": {
    "scrolled": true
   },
   "outputs": [
    {
     "data": {
      "text/plain": [
       "Year\n",
       "1948       1\n",
       "1962       1\n",
       "1974       1\n",
       "1977       1\n",
       "1979       2\n",
       "1981       1\n",
       "1982    3593\n",
       "1983    3556\n",
       "1984    3457\n",
       "1985    3096\n",
       "1986    2880\n",
       "1987    2828\n",
       "1988    2730\n",
       "1989    2544\n",
       "1990    2518\n",
       "1991    2462\n",
       "1992    2355\n",
       "1993    2313\n",
       "1994    2257\n",
       "1995    2309\n",
       "1996    2187\n",
       "1997    2148\n",
       "1998    2226\n",
       "1999    2209\n",
       "2000    2220\n",
       "2001    2063\n",
       "2002    2020\n",
       "2003    2085\n",
       "2004    1952\n",
       "2005    2031\n",
       "2006    1851\n",
       "2007    2016\n",
       "2008    1893\n",
       "2009    1783\n",
       "2010    1786\n",
       "2011    1850\n",
       "2012    1835\n",
       "2013    1561\n",
       "2014    1535\n",
       "2015    1582\n",
       "2016    1664\n",
       "2017    1638\n",
       "2018    1681\n",
       "2019    1624\n",
       "2020    1392\n",
       "2021    1545\n",
       "2022    1607\n",
       "dtype: int64"
      ]
     },
     "execution_count": 651,
     "metadata": {},
     "output_type": "execute_result"
    }
   ],
   "source": [
    "# using the Event.Date and Publication.Date to get the time period when the accidents occur\n",
    "avidatacopy['Year'] = avidatacopy['Event.Date'].dt.year\n",
    "yearly_accidents = avidatacopy.groupby('Year').size()\n",
    "\n",
    "yearly_accidents\n"
   ]
  },
  {
   "cell_type": "markdown",
   "id": "99839541-9340-4d35-aa47-cbbca085dd33",
   "metadata": {},
   "source": [
    "In the above data it shows :\n",
    "- Very few incidents were recorded before 1982\n",
    "- There is a sharp increase of incidents from year 1982–2005\n",
    "- From 2005 -2015 there is a decrease of incidents indicating possible flight safety measures implementations.\n",
    "- From 2015 there is a slight increase of the incidents .\n",
    "- 2020 has fewer reported incidents indicating that less fligts were used and thus less incidents"
   ]
  },
  {
   "cell_type": "code",
   "execution_count": 654,
   "id": "20daeaee-48c1-4cb6-b859-688ecf29d74c",
   "metadata": {},
   "outputs": [
    {
     "data": {
      "text/plain": [
       "Month\n",
       "1      4985\n",
       "2      5285\n",
       "3      6686\n",
       "4      7248\n",
       "5      8514\n",
       "6      9561\n",
       "7     10698\n",
       "8      9986\n",
       "9      8346\n",
       "10     6982\n",
       "11     5538\n",
       "12     5060\n",
       "dtype: int64"
      ]
     },
     "execution_count": 654,
     "metadata": {},
     "output_type": "execute_result"
    }
   ],
   "source": [
    "avidatacopy['Month'] = avidatacopy['Event.Date'].dt.month\n",
    "monthly_accidents = avidatacopy.groupby('Month').size()\n",
    "\n",
    "monthly_accidents\n"
   ]
  },
  {
   "cell_type": "markdown",
   "id": "6b4cadbe-819d-4067-93df-52fea256ff5b",
   "metadata": {},
   "source": [
    "- June (9,561), July (10,698), and August (9,986) have the highest accident counts\n",
    "- January (4,985) and February (5,285) have the lowest accident counts indicating possible less travel after the holiday season.\n",
    "- After August, the number of incidents  declines indicating fewer flights thus less accidents."
   ]
  },
  {
   "cell_type": "markdown",
   "id": "44d18767-d090-4967-beca-cd940cdf3049",
   "metadata": {},
   "source": [
    "### i.c) How many accidents are recorded per aircraft category"
   ]
  },
  {
   "cell_type": "code",
   "execution_count": 664,
   "id": "1762254d-b47c-4429-8eaf-25b5748b9b3b",
   "metadata": {},
   "outputs": [
    {
     "name": "stdout",
     "output_type": "stream",
     "text": [
      "Aircraft.Category\n",
      "Unknown              56616\n",
      "Airplane             27617\n",
      "Helicopter            3440\n",
      "Glider                 508\n",
      "Balloon                231\n",
      "Gyrocraft              173\n",
      "Weight-Shift           161\n",
      "Powered Parachute       91\n",
      "Ultralight              30\n",
      "WSFT                     9\n",
      "Powered-Lift             5\n",
      "Blimp                    4\n",
      "UNK                      2\n",
      "Rocket                   1\n",
      "ULTR                     1\n",
      "dtype: int64\n"
     ]
    }
   ],
   "source": [
    "aircraft_accidents = avidatacopy.groupby(['Aircraft.Category']).size().sort_values(ascending=False)\n",
    "print(aircraft_accidents)"
   ]
  },
  {
   "cell_type": "markdown",
   "id": "cf6e43ca-d236-4057-9b25-a0f9dfb52c8f",
   "metadata": {},
   "source": [
    "- The largest category is \"Unknown\" due to missing values in the data set \n",
    "- Most accidents are from airplanes (27,617 cases), followed by helicopters (3,440 cases),this is expected since airplanes are the most commonly used.\n",
    "- Other Aircrafts such as Glider and ballons accidents maybe due to weather conditions or pilots errors."
   ]
  },
  {
   "cell_type": "markdown",
   "id": "9dc43ece-8807-4800-baea-eedf457ce8e5",
   "metadata": {},
   "source": [
    "### i.d) What percentage of accidents are fatal, serious, minor, or non-severe?"
   ]
  },
  {
   "cell_type": "code",
   "execution_count": 678,
   "id": "13057097-5e3a-4d2f-8546-ab04cc286700",
   "metadata": {},
   "outputs": [
    {
     "data": {
      "text/html": [
       "<div>\n",
       "<style scoped>\n",
       "    .dataframe tbody tr th:only-of-type {\n",
       "        vertical-align: middle;\n",
       "    }\n",
       "\n",
       "    .dataframe tbody tr th {\n",
       "        vertical-align: top;\n",
       "    }\n",
       "\n",
       "    .dataframe thead th {\n",
       "        text-align: right;\n",
       "    }\n",
       "</style>\n",
       "<table border=\"1\" class=\"dataframe\">\n",
       "  <thead>\n",
       "    <tr style=\"text-align: right;\">\n",
       "      <th></th>\n",
       "      <th>Count</th>\n",
       "      <th>Percentage</th>\n",
       "    </tr>\n",
       "    <tr>\n",
       "      <th>Severity</th>\n",
       "      <th></th>\n",
       "      <th></th>\n",
       "    </tr>\n",
       "  </thead>\n",
       "  <tbody>\n",
       "    <tr>\n",
       "      <th>Uninjured</th>\n",
       "      <td>49793</td>\n",
       "      <td>56.02</td>\n",
       "    </tr>\n",
       "    <tr>\n",
       "      <th>Fatal</th>\n",
       "      <td>18048</td>\n",
       "      <td>20.30</td>\n",
       "    </tr>\n",
       "    <tr>\n",
       "      <th>Minor injuries</th>\n",
       "      <td>11042</td>\n",
       "      <td>12.42</td>\n",
       "    </tr>\n",
       "    <tr>\n",
       "      <th>Serious injuries</th>\n",
       "      <td>9783</td>\n",
       "      <td>11.01</td>\n",
       "    </tr>\n",
       "    <tr>\n",
       "      <th>Unknown</th>\n",
       "      <td>223</td>\n",
       "      <td>0.25</td>\n",
       "    </tr>\n",
       "  </tbody>\n",
       "</table>\n",
       "</div>"
      ],
      "text/plain": [
       "                  Count  Percentage\n",
       "Severity                           \n",
       "Uninjured         49793       56.02\n",
       "Fatal             18048       20.30\n",
       "Minor injuries    11042       12.42\n",
       "Serious injuries   9783       11.01\n",
       "Unknown             223        0.25"
      ]
     },
     "execution_count": 678,
     "metadata": {},
     "output_type": "execute_result"
    }
   ],
   "source": [
    "severity_counts = avidatacopy['Severity'].value_counts()\n",
    "severity_percentages = (severity_counts / severity_counts.sum()) * 100\n",
    "\n",
    "severity_summary = pd.DataFrame({'Count': severity_counts, 'Percentage': severity_percentages.round(2)})\n",
    "\n",
    "severity_summary"
   ]
  },
  {
   "cell_type": "markdown",
   "id": "50aca8b1-d3b0-4c5e-972b-386052bc7d28",
   "metadata": {},
   "source": [
    "- 56% of accidents resulted in no injuries\n",
    "- 20% of cases were fatal, showing that a significant portion of accidents have serious\n",
    "- 12% were minor injuries & 11% were serious injuries"
   ]
  },
  {
   "cell_type": "markdown",
   "id": "8dbb8412-cc2c-417c-94be-a5bf24851abe",
   "metadata": {},
   "source": [
    "### i.e) Are most accidents during takeoff, cruising, landing, or taxiing?"
   ]
  },
  {
   "cell_type": "code",
   "execution_count": 666,
   "id": "4581daa6-f445-4041-9516-91b6a4f28481",
   "metadata": {
    "scrolled": true
   },
   "outputs": [
    {
     "name": "stdout",
     "output_type": "stream",
     "text": [
      "Broad.phase.of.flight\n",
      "Unknown        27713\n",
      "Landing        15428\n",
      "Takeoff        12493\n",
      "Cruise         10269\n",
      "Maneuvering     8144\n",
      "Approach        6546\n",
      "Climb           2034\n",
      "Taxi            1958\n",
      "Descent         1887\n",
      "Go-around       1353\n",
      "Standing         945\n",
      "Other            119\n",
      "Name: count, dtype: int64\n"
     ]
    }
   ],
   "source": [
    "phase_accidents = avidatacopy['Broad.phase.of.flight'].value_counts()\n",
    "print(phase_accidents)"
   ]
  },
  {
   "cell_type": "markdown",
   "id": "2b14f255-3a4d-4516-a5a7-0d78ba6ed76f",
   "metadata": {},
   "source": [
    "- Landing (17%) & Takeoff (14%) are the riskiest phases\n",
    "- Go-around, taxi, and standing are soe of the low-risk phases"
   ]
  },
  {
   "cell_type": "markdown",
   "id": "57dcc7af-8203-4bac-afb5-62ddc0d56ad0",
   "metadata": {},
   "source": [
    "### i.f) Are accidents more frequent in commercial flights, private flights, or training flights?"
   ]
  },
  {
   "cell_type": "code",
   "execution_count": 671,
   "id": "f3f6457a-7bf1-4398-ae71-d2b2ea380c17",
   "metadata": {
    "scrolled": true
   },
   "outputs": [
    {
     "name": "stdout",
     "output_type": "stream",
     "text": [
      "Purpose.of.flight\n",
      "Personal                     55640\n",
      "Instructional                10601\n",
      "Unknown                       6802\n",
      "Aerial Application            4712\n",
      "Business                      4018\n",
      "Positioning                   1646\n",
      "Other Work Use                1264\n",
      "Ferry                          812\n",
      "Aerial Observation             794\n",
      "Public Aircraft                720\n",
      "Executive/corporate            553\n",
      "Flight Test                    405\n",
      "Skydiving                      182\n",
      "External Load                  123\n",
      "Public Aircraft - Federal      105\n",
      "Banner Tow                     101\n",
      "Air Race show                   99\n",
      "Public Aircraft - Local         74\n",
      "Public Aircraft - State         64\n",
      "Air Race/show                   59\n",
      "Glider Tow                      53\n",
      "Firefighting                    40\n",
      "Air Drop                        11\n",
      "ASHO                             6\n",
      "PUBS                             4\n",
      "PUBL                             1\n",
      "Name: count, dtype: int64\n"
     ]
    }
   ],
   "source": [
    "flight_purpose_accidents = avidatacopy['Purpose.of.flight'].value_counts()\n",
    "print(flight_purpose_accidents)"
   ]
  },
  {
   "cell_type": "markdown",
   "id": "c27778c1-de73-4ff8-be37-c32ab449cd87",
   "metadata": {},
   "source": [
    "- Personal flights have the highest accident count likely due to less experienced pilots\n",
    "- Instructional flights accidents  are common in training flights as they occur under supervision.\n",
    "- Aerial Application accidents may be due to low-altitude flying and exposure to chemicals."
   ]
  },
  {
   "cell_type": "markdown",
   "id": "c48aecf9-62e2-4f48-9bf8-11031205b42b",
   "metadata": {},
   "source": [
    "### i.g)Are certain countries or regions more prone to accidents?"
   ]
  },
  {
   "cell_type": "code",
   "execution_count": 669,
   "id": "481eed54-6f73-4a9e-bc22-38c8f81fc80e",
   "metadata": {},
   "outputs": [
    {
     "name": "stdout",
     "output_type": "stream",
     "text": [
      "Country\n",
      "United States     82474\n",
      "Brazil              374\n",
      "Canada              359\n",
      "Mexico              358\n",
      "United Kingdom      344\n",
      "Australia           300\n",
      "France              236\n",
      "Spain               226\n",
      "Bahamas             216\n",
      "Germany             215\n",
      "Name: count, dtype: int64\n"
     ]
    }
   ],
   "source": [
    "country_accidents = avidatacopy['Country'].value_counts().head(10)\n",
    "print(country_accidents)"
   ]
  },
  {
   "cell_type": "markdown",
   "id": "b528f235-05a8-47a4-95d9-46aa18f31e7f",
   "metadata": {},
   "source": [
    "- Recorded accidents in the U.S lead maybe due to increased flights."
   ]
  },
  {
   "cell_type": "markdown",
   "id": "90521491-6eaa-458e-b59a-cc738f14219a",
   "metadata": {},
   "source": [
    "### i.h) Under which weather condition do most accidents happen "
   ]
  },
  {
   "cell_type": "code",
   "execution_count": 679,
   "id": "ed8b05b6-3817-4661-9e73-a4fbfc3f3a91",
   "metadata": {},
   "outputs": [
    {
     "name": "stdout",
     "output_type": "stream",
     "text": [
      "Weather.Condition\n",
      "VMC    81795\n",
      "IMC     5976\n",
      "UNK      856\n",
      "Unk      262\n",
      "dtype: int64\n"
     ]
    }
   ],
   "source": [
    "weather_accidents = avidatacopy.groupby('Weather.Condition').size().sort_values(ascending=False)\n",
    "print(weather_accidents)"
   ]
  },
  {
   "cell_type": "markdown",
   "id": "42c4a64a-4554-4512-852f-aeb760408644",
   "metadata": {},
   "source": [
    "- VMC (Visual Meteorological Conditions) – 81,795 incidents is leading\n",
    "This means weather is not the leading factor in most cases.\n",
    "- IMC (Instrument Meteorological Conditions) – 5,976 incidents\n",
    "These accidents occurred in poor weather conditions where pilots had to rely on instruments and maybe there were turbulence errors."
   ]
  },
  {
   "cell_type": "markdown",
   "id": "56300245-7976-44ad-9017-f242639c2cff",
   "metadata": {},
   "source": [
    "### i.i) aircraft incidents by damage severity across my data "
   ]
  },
  {
   "cell_type": "code",
   "execution_count": 694,
   "id": "c28df772-21bb-400d-b87c-6ff644fd1cc7",
   "metadata": {},
   "outputs": [
    {
     "data": {
      "text/plain": [
       "Aircraft.damage\n",
       "Substantial    64148\n",
       "Destroyed      18623\n",
       "Unknown         3313\n",
       "Minor           2805\n",
       "Name: count, dtype: int64"
      ]
     },
     "execution_count": 694,
     "metadata": {},
     "output_type": "execute_result"
    }
   ],
   "source": [
    "avidatacopy[\"Aircraft.damage\"].value_counts()"
   ]
  },
  {
   "cell_type": "markdown",
   "id": "b4c303ca-e441-49a2-8251-922881733852",
   "metadata": {},
   "source": [
    "- Majority of aircraft accidents cause significant damage but may not necessarily result in a total loss.\n",
    "- The Unknown category with 3,313 cases indicates there is missing data\n",
    "- The Destroyed category with 18623 indicates that accidents occur aircraft destruction is likely to happen."
   ]
  },
  {
   "cell_type": "code",
   "execution_count": null,
   "id": "ac482c4b-999b-4353-9e32-43c6b79164aa",
   "metadata": {},
   "outputs": [],
   "source": []
  }
 ],
 "metadata": {
  "kernelspec": {
   "display_name": "Python 3 (ipykernel)",
   "language": "python",
   "name": "python3"
  },
  "language_info": {
   "codemirror_mode": {
    "name": "ipython",
    "version": 3
   },
   "file_extension": ".py",
   "mimetype": "text/x-python",
   "name": "python",
   "nbconvert_exporter": "python",
   "pygments_lexer": "ipython3",
   "version": "3.10.16"
  }
 },
 "nbformat": 4,
 "nbformat_minor": 5
}
